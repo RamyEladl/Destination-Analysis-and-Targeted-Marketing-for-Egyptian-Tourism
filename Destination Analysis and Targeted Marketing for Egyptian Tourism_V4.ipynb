{
 "cells": [
  {
   "cell_type": "markdown",
   "id": "6b2ddc35",
   "metadata": {},
   "source": [
    "# Destination Analysis and Targeted Marketing for Egyptian Tourism"
   ]
  },
  {
   "cell_type": "markdown",
   "id": "565e4eb5",
   "metadata": {},
   "source": [
    "### Project Description:"
   ]
  },
  {
   "cell_type": "markdown",
   "id": "2a47525d",
   "metadata": {},
   "source": [
    "The aim of this project is to analyze the preferences and interests of tourists visiting various countries and their preferred destinations. By understanding what attracts tourists to specific locations, we can develop targeted marketing strategies to attract them to Egypt. The project will involve comprehensive research, data analysis, and the implementation of effective marketing campaigns to promote Egypt as an appealing tourist destination."
   ]
  },
  {
   "cell_type": "markdown",
   "id": "6ecffb3b",
   "metadata": {},
   "source": [
    "### We collect the attractive places of countries Egypt, Turkey, Thailand from Chatgpt"
   ]
  },
  {
   "cell_type": "markdown",
   "id": "d754647f",
   "metadata": {},
   "source": [
    "The collected features following the Chatgpt advice include Location, Country, Historical Significance, Natural Beauty, Adventure Activities, Accessibility, Shopping, Nightlife, Water Sports, Wildlife Viewing, Scuba Diving, and Type."
   ]
  },
  {
   "cell_type": "markdown",
   "id": "8d6f7cb2",
   "metadata": {},
   "source": [
    "**Feature Description:**\n",
    "\n",
    "**Location:** The city location of each place\n",
    "\n",
    "**Country:** The country name of each place\n",
    "\n",
    "**Historical Significance:** Relates to the importance of the location in terms of its historical events, heritage, and cultural value. It allows travelers to explore the rich history and traditions of the place.\n",
    "\n",
    "**Natural Beauty:** Encompasses the scenic landscapes, biodiversity, and natural wonders that the location offers. It appeals to travelers seeking aesthetically pleasing environments and outdoor experiences.\n",
    "\n",
    "**Adventure Activities:** Includes various thrilling and exciting experiences such as hiking, rock climbing, zip-lining, or any other adrenaline-pumping activities that cater to adventurous travelers.\n",
    "\n",
    "**Accessibility:** Refers to how easily a location can be reached or explored by different means of transportation. Good accessibility allows for smooth travel and exploration.\n",
    "\n",
    "**Shopping:** Describes the availability of shopping opportunities in the location, including markets, malls, and unique local products. It attracts travelers interested in purchasing souvenirs or experiencing the local retail scene.\n",
    "\n",
    "**Nightlife:** Represents the entertainment and social activities that take place during the evening and nighttime. It appeals to travelers looking for vibrant nightlife experiences, such as clubs, bars, or cultural events.\n",
    "\n",
    "**Water Sports:** Encompasses a variety of activities that take place in water bodies, like swimming, snorkeling, kayaking, or surfing. It attracts travelers who enjoy aquatic adventures.\n",
    "\n",
    "**Wildlife Viewing:** Focuses on the opportunities to observe and appreciate the local fauna and wildlife in their natural habitats. It appeals to nature enthusiasts and wildlife photographers.\n",
    "\n",
    "**Scuba Diving:** Specifically refers to the underwater diving activity that involves using self-contained underwater breathing apparatus (scuba). It allows travelers to explore the marine world and its diverse ecosystems.\n",
    "\n",
    "**Type:** This may refer to the categorization of the destination, such as whether its a beach resort, a historic city, an eco-tourism destination, or an adventure sports hub. It helps travelers choose a location based on their preferred type of travel experience."
   ]
  },
  {
   "cell_type": "markdown",
   "id": "5662cc7d",
   "metadata": {},
   "source": [
    "___________________________________________________________________________________________________________________________"
   ]
  },
  {
   "cell_type": "markdown",
   "id": "4be0e0e0",
   "metadata": {},
   "source": [
    "# The code and its description"
   ]
  },
  {
   "cell_type": "markdown",
   "id": "bb8ec9f9",
   "metadata": {},
   "source": [
    "Our main source of data is https://tripadvisor.com/. Which is the world's largest travel site. The site includes data about tourist destinations around the world and their reviews."
   ]
  },
  {
   "cell_type": "markdown",
   "id": "cb8fd024",
   "metadata": {},
   "source": [
    "Using web scraping, we collected all the URLs of these places on Trip Advisor website, and used the URLs to extract the reviews written about these places and its metadata as well as reviewers' data, and we used Levenstein distance technique to ensure that our collected data belongs to our places of interest. "
   ]
  },
  {
   "cell_type": "markdown",
   "id": "50a6b7fd",
   "metadata": {},
   "source": [
    "First we will add Tripadvisor URL column to the Places from Google search"
   ]
  },
  {
   "cell_type": "code",
   "execution_count": 1,
   "id": "a92b0436",
   "metadata": {},
   "outputs": [],
   "source": [
    "import numpy as np\n",
    "import pandas as pd\n",
    "from scrapy.selector import Selector\n",
    "from selenium import webdriver \n",
    "from selenium.webdriver.common.by import By\n",
    "from selenium.webdriver.common.keys import Keys\n",
    "import time\n",
    "from tqdm import tqdm\n",
    "import warnings\n",
    "warnings.filterwarnings(\"ignore\")\n",
    "\n",
    "from selenium.webdriver.support.ui import WebDriverWait\n",
    "from selenium.webdriver.support import expected_conditions as EC\n",
    "\n",
    "import math\n",
    "import re\n",
    "from collections import Counter"
   ]
  },
  {
   "cell_type": "code",
   "execution_count": 2,
   "id": "690ce874",
   "metadata": {},
   "outputs": [
    {
     "data": {
      "text/html": [
       "<div>\n",
       "<style scoped>\n",
       "    .dataframe tbody tr th:only-of-type {\n",
       "        vertical-align: middle;\n",
       "    }\n",
       "\n",
       "    .dataframe tbody tr th {\n",
       "        vertical-align: top;\n",
       "    }\n",
       "\n",
       "    .dataframe thead th {\n",
       "        text-align: right;\n",
       "    }\n",
       "</style>\n",
       "<table border=\"1\" class=\"dataframe\">\n",
       "  <thead>\n",
       "    <tr style=\"text-align: right;\">\n",
       "      <th></th>\n",
       "      <th>Unnamed: 0</th>\n",
       "      <th>Tourist Place</th>\n",
       "      <th>Location</th>\n",
       "      <th>Country</th>\n",
       "      <th>Historical Significance</th>\n",
       "      <th>Natural Beauty</th>\n",
       "      <th>Adventure Activities</th>\n",
       "      <th>Accessibility</th>\n",
       "      <th>Shopping</th>\n",
       "      <th>Nightlife</th>\n",
       "      <th>Water Sports</th>\n",
       "      <th>Wildlife Viewing</th>\n",
       "      <th>Scuba Diving</th>\n",
       "      <th>Type</th>\n",
       "    </tr>\n",
       "  </thead>\n",
       "  <tbody>\n",
       "    <tr>\n",
       "      <th>0</th>\n",
       "      <td>0</td>\n",
       "      <td>Abu Simbel Temples</td>\n",
       "      <td>Aswan</td>\n",
       "      <td>Egypt</td>\n",
       "      <td>High</td>\n",
       "      <td>Low</td>\n",
       "      <td>Low</td>\n",
       "      <td>Medium</td>\n",
       "      <td>No</td>\n",
       "      <td>No</td>\n",
       "      <td>No</td>\n",
       "      <td>No</td>\n",
       "      <td>No</td>\n",
       "      <td>Historical</td>\n",
       "    </tr>\n",
       "    <tr>\n",
       "      <th>1</th>\n",
       "      <td>1</td>\n",
       "      <td>Pyramids of Giza</td>\n",
       "      <td>Giza</td>\n",
       "      <td>Egypt</td>\n",
       "      <td>High</td>\n",
       "      <td>Low</td>\n",
       "      <td>Low</td>\n",
       "      <td>High</td>\n",
       "      <td>Yes</td>\n",
       "      <td>Yes</td>\n",
       "      <td>No</td>\n",
       "      <td>No</td>\n",
       "      <td>No</td>\n",
       "      <td>Historical</td>\n",
       "    </tr>\n",
       "    <tr>\n",
       "      <th>2</th>\n",
       "      <td>2</td>\n",
       "      <td>Luxor Temple</td>\n",
       "      <td>Luxor</td>\n",
       "      <td>Egypt</td>\n",
       "      <td>High</td>\n",
       "      <td>Low</td>\n",
       "      <td>Low</td>\n",
       "      <td>High</td>\n",
       "      <td>Yes</td>\n",
       "      <td>Yes</td>\n",
       "      <td>No</td>\n",
       "      <td>No</td>\n",
       "      <td>No</td>\n",
       "      <td>Historical</td>\n",
       "    </tr>\n",
       "    <tr>\n",
       "      <th>3</th>\n",
       "      <td>3</td>\n",
       "      <td>The Museum of Egyptian Antiquities</td>\n",
       "      <td>Cairo</td>\n",
       "      <td>Egypt</td>\n",
       "      <td>High</td>\n",
       "      <td>Low</td>\n",
       "      <td>Low</td>\n",
       "      <td>High</td>\n",
       "      <td>Yes</td>\n",
       "      <td>Yes</td>\n",
       "      <td>No</td>\n",
       "      <td>No</td>\n",
       "      <td>No</td>\n",
       "      <td>Cultural</td>\n",
       "    </tr>\n",
       "    <tr>\n",
       "      <th>4</th>\n",
       "      <td>4</td>\n",
       "      <td>Alexandria</td>\n",
       "      <td>Alexandria</td>\n",
       "      <td>Egypt</td>\n",
       "      <td>Medium</td>\n",
       "      <td>High</td>\n",
       "      <td>Medium</td>\n",
       "      <td>High</td>\n",
       "      <td>Yes</td>\n",
       "      <td>Yes</td>\n",
       "      <td>Yes</td>\n",
       "      <td>No</td>\n",
       "      <td>Yes</td>\n",
       "      <td>Coastal</td>\n",
       "    </tr>\n",
       "  </tbody>\n",
       "</table>\n",
       "</div>"
      ],
      "text/plain": [
       "   Unnamed: 0                       Tourist Place   Location    Country  \\\n",
       "0           0                  Abu Simbel Temples   Aswan         Egypt   \n",
       "1           1                    Pyramids of Giza   Giza          Egypt   \n",
       "2           2                        Luxor Temple   Luxor         Egypt   \n",
       "3           3  The Museum of Egyptian Antiquities   Cairo         Egypt   \n",
       "4           4                          Alexandria   Alexandria    Egypt   \n",
       "\n",
       "   Historical Significance    Natural Beauty    Adventure Activities   \\\n",
       "0   High                      Low               Low                     \n",
       "1   High                      Low               Low                     \n",
       "2   High                      Low               Low                     \n",
       "3   High                      Low               Low                     \n",
       "4   Medium                    High              Medium                  \n",
       "\n",
       "     Accessibility    Shopping    Nightlife     Water Sports   \\\n",
       "0   Medium            No          No           No               \n",
       "1   High              Yes         Yes          No               \n",
       "2   High              Yes         Yes          No               \n",
       "3   High              Yes         Yes          No               \n",
       "4   High              Yes         Yes          Yes              \n",
       "\n",
       "    Wildlife Viewing    Scuba Diving         Type  \n",
       "0   No                  No             Historical  \n",
       "1   No                  No             Historical  \n",
       "2   No                  No             Historical  \n",
       "3   No                  No               Cultural  \n",
       "4   No                  Yes               Coastal  "
      ]
     },
     "execution_count": 2,
     "metadata": {},
     "output_type": "execute_result"
    }
   ],
   "source": [
    "# ChatGPT places\n",
    "df = pd.read_csv('places.csv')\n",
    "df.head()"
   ]
  },
  {
   "cell_type": "code",
   "execution_count": null,
   "id": "d8d58dc6",
   "metadata": {},
   "outputs": [],
   "source": [
    "df['Tourist Place'] = df['Tourist Place'].map(lambda x: x.strip())\n",
    "df = df.drop_duplicates(keep='first')"
   ]
  },
  {
   "cell_type": "code",
   "execution_count": null,
   "id": "619bb201",
   "metadata": {},
   "outputs": [],
   "source": [
    "def get_places_urls(df):\n",
    "    urls_arr = []\n",
    "    \n",
    "    driver = webdriver.Chrome('chromedriver.exe')\n",
    "    for index, row in df.iterrows():\n",
    "    \n",
    "        search_place = row['Tourist Place'].replace(' ', '+')\n",
    "        search_url = 'https://www.google.com/search?q={0}+{1}+tripadvisor'.format(search_place, row['Country'])\n",
    "    \n",
    "        time.sleep(1)\n",
    "        driver.get(search_url)\n",
    "        time.sleep(1)\n",
    "        time.sleep(1)\n",
    "        body = driver.find_element(By.CSS_SELECTOR, 'body')\n",
    "    \n",
    "        sel = Selector(text = driver.page_source)\n",
    "        attraction_url_on_tripAdvisor = driver.find_element(By.CSS_SELECTOR, 'div.yuRUbf a')\n",
    "        final_url = attraction_url_on_tripAdvisor.get_attribute('href')\n",
    "        urls_arr.append(final_url)\n",
    "        \n",
    "    return urls_arr"
   ]
  },
  {
   "cell_type": "code",
   "execution_count": null,
   "id": "73e3b9d8",
   "metadata": {
    "scrolled": true
   },
   "outputs": [],
   "source": [
    "urls = get_places_urls(df)\n",
    "df['Url'] = urls\n",
    "df.to_csv('Places_with_urls.csv', index = True)"
   ]
  },
  {
   "cell_type": "code",
   "execution_count": null,
   "id": "7dc21df1",
   "metadata": {
    "scrolled": true
   },
   "outputs": [],
   "source": [
    "df = pd.read_csv('Places_with_urls.csv')\n",
    "df.head()"
   ]
  },
  {
   "cell_type": "code",
   "execution_count": null,
   "id": "167ec5ec",
   "metadata": {
    "scrolled": true
   },
   "outputs": [],
   "source": [
    "places_urls_df = pd.read_csv('Places_with_urls.csv')\n",
    "places_urls_df = places_urls_df.drop(['Unnamed: 0'], axis=1)\n",
    "df_subset = places_urls_df.iloc[0:217]\n",
    "df_subset.head(15)"
   ]
  },
  {
   "cell_type": "markdown",
   "id": "6a996528",
   "metadata": {},
   "source": [
    "### Presently, we'll gather the reviews from tourists for each Attractive place, but we'll restrict the number of collected reviews to 2000 to optimize time usage."
   ]
  },
  {
   "cell_type": "markdown",
   "id": "5db160d4",
   "metadata": {},
   "source": [
    "We will use Levenstein distance technique to ensure that our collected data belongs to our places of interest (as may the URL is getting data for other place)"
   ]
  },
  {
   "cell_type": "code",
   "execution_count": null,
   "id": "9dd91251",
   "metadata": {},
   "outputs": [],
   "source": [
    "!pip install textdistance"
   ]
  },
  {
   "cell_type": "code",
   "execution_count": null,
   "id": "06a80b65",
   "metadata": {},
   "outputs": [],
   "source": [
    "from textdistance import levenshtein"
   ]
  },
  {
   "cell_type": "code",
   "execution_count": null,
   "id": "64b4021f",
   "metadata": {},
   "outputs": [],
   "source": [
    "WORD = re.compile(r\"\\w+\")\n",
    "\n",
    "def get_cosine(vec1, vec2):\n",
    "    intersection = set(vec1.keys()) & set(vec2.keys())\n",
    "    numerator = sum([vec1[x] * vec2[x] for x in intersection])\n",
    "\n",
    "    sum1 = sum([vec1[x] ** 2 for x in list(vec1.keys())])\n",
    "    sum2 = sum([vec2[x] ** 2 for x in list(vec2.keys())])\n",
    "    denominator = math.sqrt(sum1) * math.sqrt(sum2)\n",
    "\n",
    "    if not denominator:\n",
    "        return 0.0\n",
    "    else:\n",
    "        return float(numerator) / denominator\n",
    "\n",
    "\n",
    "def text_to_vector(text):\n",
    "    words = WORD.findall(text)\n",
    "    return Counter(words)"
   ]
  },
  {
   "cell_type": "markdown",
   "id": "d8f5a7f1",
   "metadata": {},
   "source": [
    "Hint, no need to run the next code as it takes days to collect the data from trip advisor, the final exported data is attached with name (All_reviews.csv)"
   ]
  },
  {
   "cell_type": "code",
   "execution_count": null,
   "id": "e8833889",
   "metadata": {},
   "outputs": [],
   "source": [
    "\n",
    "driver = webdriver.Chrome('chromedriver.exe')\n",
    "Tourist_Reviews = pd.DataFrame(list())\n",
    "    \n",
    "for index, row in df_subset.iterrows():\n",
    "    rating_list = []\n",
    "    review_date_list = []\n",
    "    review_title_list = []\n",
    "    author_list = []\n",
    "    review_text_list = []\n",
    "    review_country = []\n",
    "    review_contributions = []\n",
    "    visited_places = []\n",
    "    number_of_reviews = []\n",
    "    \n",
    "    places_no_reviews = []\n",
    "    urls_no_reviews = []\n",
    "    \n",
    "    names_in_excel = []\n",
    "    levenshtein_Distances = []\n",
    "    cosine_similarities = []\n",
    "\n",
    "    error_url_list = []\n",
    "    error_msg_list = []\n",
    "    try:\n",
    "        driver.get(row['Url'])\n",
    "        print(index, row['Url'])\n",
    "    except:\n",
    "        pass \n",
    "        \n",
    "    time.sleep(1)\n",
    "    print(driver.title)\n",
    "    time.sleep(1)\n",
    "    body = driver.find_element(By.CSS_SELECTOR, 'body')\n",
    "    body.send_keys(Keys.PAGE_DOWN)\n",
    "    time.sleep(1)\n",
    "    body.send_keys(Keys.PAGE_DOWN)\n",
    "    time.sleep(1)\n",
    "    body.send_keys(Keys.PAGE_DOWN)\n",
    "    \n",
    "    sel = Selector(text = driver.page_source)\n",
    "    \n",
    "    try:\n",
    "        visited_place = driver.find_element(By.CSS_SELECTOR, 'div.iSVKr h1.biGQs._P.fiohW.eIegw').text\n",
    "        lev = levenshtein.distance(visited_place, row['Tourist Place'])\n",
    "    \n",
    "        vector1 = text_to_vector(visited_place)\n",
    "        vector2 = text_to_vector(row['Tourist Place'])\n",
    "        cosine = get_cosine(vector1, vector2)\n",
    "    except:\n",
    "        visited_place = np.NaN\n",
    "    \n",
    "    try:\n",
    "        review_counts = sel.css('span.KAVFZ').extract_first().split('>')[1].split('<')[0].split(' ')[0].replace(',', '')\n",
    "        print(review_counts)\n",
    "        more_review_pages = int(int(review_counts)/10)\n",
    "        more_review_pages\n",
    "    except:\n",
    "        review_counts = np.NaN\n",
    "        places_no_reviews.append(row['Tourist Place'])\n",
    "        urls_no_reviews.append(row['Url'])\n",
    "        continue\n",
    "    \n",
    "    for i in range(200):\n",
    "        \n",
    "        try:\n",
    "            reviews = driver.find_elements(By.CSS_SELECTOR, 'div.LbPSX div.C div._c')\n",
    "            \n",
    "            for d in reviews:\n",
    "                try:\n",
    "                    \n",
    "                    sel = Selector(text = d.get_attribute('innerHTML'))\n",
    "                    try:\n",
    "                        rating_element = sel.css('div svg.UctUV.d.H0').extract_first().strip().split(' ')[10].split('\"')[1]\n",
    "                        rating = int(float(rating_element))\n",
    "                    except:\n",
    "                        rating = np.NaN\n",
    "                    try:\n",
    "                        contributions = sel.css('.JINyA .biGQs._P.pZUbB.osNWb span').extract()[1].replace(',', '').split('>')[1].split('<')[0].split(' ')[0]\n",
    "                        contributions = int(float(contributions))\n",
    "                        country = sel.css('.JINyA .biGQs._P.pZUbB.osNWb span').extract()[0].split('>')[1].split('<')[0]\n",
    "                    except:\n",
    "                        try:\n",
    "                            contributions = sel.css('.JINyA .biGQs._P.pZUbB.osNWb span').extract()[0].replace(',', '').split('>')[1].split('<')[0].split(' ')[0]\n",
    "                            contributions = int(float(contributions))\n",
    "                            country = np.NaN\n",
    "                        except:\n",
    "                            contributions = np.NaN\n",
    "                            country = np.NaN\n",
    "                            \n",
    "                    try:\n",
    "                        review_date = sel.css('div.RpeCd::text').extract_first()\n",
    "                    except:\n",
    "                        review_date = np.NaN    \n",
    "                    try:\n",
    "                        author = sel.css('.biGQs._P.fiohW.fOtGX a::text').extract_first()\n",
    "#                         visited_place = driver.find_element(By.CSS_SELECTOR, 'div.iSVKr h1.biGQs._P.fiohW.eIegw').text\n",
    "                    except:\n",
    "                        author = np.NaN\n",
    "#                         visited_place = np.NaN\n",
    "                    try:\n",
    "                        review_title = sel.css('span.yCeTE::text').extract_first()\n",
    "                    except:\n",
    "                        review_title = np.NaN\n",
    "                    try:\n",
    "                        review_text = sel.css('.biGQs._P.pZUbB.KxBGd .yCeTE::text').extract_first()\n",
    "                    except:\n",
    "                        review_text = np.NaN    \n",
    "                    try:\n",
    "                        num_reviews = driver.find_element(By.CSS_SELECTOR, 'div.Ci').text.split('results ')[1]\n",
    "                    except:\n",
    "                        num_reviews = np.NaN    \n",
    "                    \n",
    "                    visited_places.append(visited_place)\n",
    "                    names_in_excel.append(row['Tourist Place'])\n",
    "                    levenshtein_Distances.append(lev)\n",
    "    \n",
    "#                     vector1 = text_to_vector(visited_place)\n",
    "#                     vector2 = text_to_vector(row['Tourist Place'])\n",
    "#                     cosine = get_cosine(vector1, vector2)\n",
    "                    \n",
    "                    cosine_similarities.append(cosine)\n",
    "                    \n",
    "                    rating_list.append(rating)\n",
    "                    review_country.append(country)\n",
    "                    review_contributions.append(contributions)\n",
    "\n",
    "                    review_date_list.append(review_date)\n",
    "                    review_title_list.append(review_title)\n",
    "\n",
    "                    author_list.append(author)\n",
    "                    number_of_reviews.append(num_reviews)\n",
    "                    review_text_list.append(review_text)\n",
    "                    \n",
    "                except:\n",
    "                    print('err0')\n",
    "                    \n",
    "                    \n",
    "            try:\n",
    "                element = driver.find_element(By.CSS_SELECTOR, '.xkSty .UCacc a')\n",
    "                new_url = element.get_attribute('href')\n",
    "                print(new_url, 'next_url')\n",
    "\n",
    "                time.sleep(1)\n",
    "                driver.get(new_url)\n",
    "                \n",
    "                time.sleep(2)\n",
    "                sel = Selector(text = driver.page_source)\n",
    "                \n",
    "            except:\n",
    "                break\n",
    "                \n",
    "        except:\n",
    "            break\n",
    "\n",
    "    \n",
    "    review_df = pd.DataFrame({\n",
    "        'Review_Date':review_date_list,\n",
    "        'Author':author_list,\n",
    "        'Rating':rating_list,\n",
    "        'Review_Title':review_title_list,\n",
    "        'Review':review_text_list,\n",
    "        'Country': review_country,\n",
    "        'Contributions': review_contributions,\n",
    "        'Name on TripAdvisor': visited_places,\n",
    "        'Name in xlsx': names_in_excel,\n",
    "        'Number of reviews': number_of_reviews,\n",
    "        'Levenshtein Distance': levenshtein_Distances,\n",
    "        'Cosine Similarity': cosine_similarities\n",
    "        })\n",
    "    review_df.dropna(axis = 0, how = 'all', inplace = True) # remove the total empty row \n",
    "    try:\n",
    "        review_df['Traveler status'] = review_df['Review_Date'].map(lambda x: x.split('•')[1] if x is not None else np.nan)\n",
    "        review_df['Review_Date'] = review_df['Review_Date'].map(lambda x: x.split('•')[0] if x is not None else np.nan)\n",
    "    except:\n",
    "        review_df['Review_Date'] = review_df['Review_Date'].map(lambda x: x.split('•')[0] if x is not None else np.nan)\n",
    "        review_df['Traveler status'] = np.NaN\n",
    "    \n",
    "    #review_df.to_csv('Places_reviews.csv', index = True)\n",
    "    review_df.to_csv(\"All_reviews.csv\", index=False, mode='a', header=False)\n",
    "\n",
    "\n",
    "####Saving places with no reviews\n",
    "no_review_df = pd.DataFrame({\n",
    "    'Place name in sheet': places_no_reviews,\n",
    "    'Url': urls_no_reviews\n",
    "})\n",
    "#     no_review_df.dropna(axis = 0, how = 'all', inplace = True)\n",
    "no_review_df.to_csv(\"No_reviews.csv\", index=False, mode='a', header=False)\n",
    "    \n",
    "driver.quit()\n"
   ]
  },
  {
   "cell_type": "markdown",
   "id": "43c46f41",
   "metadata": {},
   "source": [
    "#### Here we have two output files. The first file contains all the successfully exported reviews, while the second file includes information about places with incorrect URLs or zero reviews. For the locations in the \"No review\" file, we manually collected their URLs and then repeated the previous steps to obtain their reviews and added them to the \"All reviews\" sheet.\n",
    "\n",
    "#### Then we checked the places that have Levenishtien value < 0.5 and ensure that the places from trip advisor are consistent with our places name, and if they are not consistent, we get the URL manually and repeat the previous steps"
   ]
  },
  {
   "cell_type": "markdown",
   "id": "f693b002",
   "metadata": {},
   "source": [
    "_________________________________________________________________________________________________________________________________"
   ]
  },
  {
   "cell_type": "markdown",
   "id": "e8c98473",
   "metadata": {},
   "source": [
    "### Clustring the Attractive places"
   ]
  },
  {
   "cell_type": "markdown",
   "id": "36a3dd2c",
   "metadata": {},
   "source": [
    "We set out with the objective of grouping the list of locations by utilizing the categories gathered during the initial phase. Our goal was to generate distinct clusters, each consisting of comparable places. We experimented with creating 4, 5, 6, and 7 clusters. We used KMeans algorithm to cluster the data"
   ]
  },
  {
   "cell_type": "code",
   "execution_count": 3,
   "id": "4436a23b",
   "metadata": {},
   "outputs": [
    {
     "name": "stdout",
     "output_type": "stream",
     "text": [
      "Unnamed: 0                                0\n",
      "Tourist Place                             0\n",
      "Location                                  0\n",
      "Country                                   0\n",
      "HistoricalSignificance                    0\n",
      "NaturalBeauty                             0\n",
      "AdventureActivities                       0\n",
      "Accessibility                             0\n",
      "Shopping                                  0\n",
      "Nightlife                                 0\n",
      "WaterSports                               0\n",
      "WildlifeViewing                           0\n",
      "ScubaDiving                               0\n",
      "Url                                       0\n",
      "Type_Coastal                              0\n",
      "Type_Commercial                           0\n",
      "Type_Cultural                             0\n",
      "Type_Entertainment                        0\n",
      "Type_Historical                           0\n",
      "Type_Natural Parks and Protected Areas    0\n",
      "dtype: int64\n"
     ]
    }
   ],
   "source": [
    "import pandas as pd\n",
    "#from sklearn.preprocessing import LabelEncoder\n",
    "from sklearn.cluster import KMeans\n",
    "import matplotlib.pyplot as plt\n",
    "from sklearn.metrics import silhouette_score\n",
    "df = pd.read_csv('Places_with_urls.csv')\n",
    "\n",
    "for column in ['Shopping', 'Nightlife', 'WaterSports', 'WildlifeViewing', 'NaturalBeauty']:\n",
    "    df[column] = df[column].map({'Yes': 1, 'High': 1, 'No': 0, 'Low': 0})\n",
    "\n",
    "for column in ['HistoricalSignificance', 'AdventureActivities', 'Accessibility']:\n",
    "    df[column] = df[column].map({'High': 3, 'Medium': 2, 'Low': 1})\n",
    "#le = LabelEncoder()\n",
    "#df['Cuisine'] = le.fit_transform(df['Cuisine'])\n",
    "\n",
    "#one hot coding for type\n",
    "df = pd.get_dummies(df, columns=['Type'])\n",
    "X = df.drop(['Unnamed: 0', 'Tourist Place', 'Location', 'Country','ScubaDiving','Url'], axis=1)\n",
    "null_counts = df.isnull().sum()\n",
    "print(null_counts)"
   ]
  },
  {
   "cell_type": "code",
   "execution_count": 4,
   "id": "c35ba413",
   "metadata": {},
   "outputs": [
    {
     "data": {
      "image/png": "[encoded data removed]",
      "text/plain": [
       "<Figure size 640x480 with 1 Axes>"
      ]
     },
     "metadata": {},
     "output_type": "display_data"
    },
    {
     "name": "stdout",
     "output_type": "stream",
     "text": [
      "Silhouette score for k=2: 0.3197401882257881\n",
      "Silhouette score for k=3: 0.2563814976703912\n",
      "Silhouette score for k=4: 0.27775321651688833\n",
      "Silhouette score for k=5: 0.298341387444546\n",
      "Silhouette score for k=6: 0.3213010496381913\n",
      "Silhouette score for k=7: 0.3218767204461577\n",
      "Silhouette score for k=8: 0.33735087941141795\n",
      "Silhouette score for k=9: 0.33736711153877613\n",
      "4\n",
      "5\n",
      "6\n",
      "7\n"
     ]
    }
   ],
   "source": [
    "sse = []\n",
    "silhouette_scores = []\n",
    "k_values = range(2, 10)\n",
    "\n",
    "for i in k_values:\n",
    "    kmeans = KMeans(n_clusters=i, init='k-means++', max_iter=300, n_init=10, random_state=0)\n",
    "    kmeans.fit(X)\n",
    "    sse.append(kmeans.inertia_)\n",
    "    cluster_labels = kmeans.fit_predict(X)\n",
    "    silhouette_avg = silhouette_score(X, cluster_labels)\n",
    "    silhouette_scores.append(silhouette_avg)\n",
    "plt.plot(k_values, sse)\n",
    "plt.title('Elbow Method')\n",
    "plt.xlabel('Number of clusters')\n",
    "plt.ylabel('SSE')\n",
    "plt.show()\n",
    "best_k = k_values[silhouette_scores.index(max(silhouette_scores))]\n",
    "# Print the silhouette scores for different k values\n",
    "for k, score in zip(k_values, silhouette_scores):\n",
    "    print(f\"Silhouette score for k={k}: {score}\")\n",
    "\n",
    "\n",
    "optimal_clusters = range(4,8)\n",
    "for j in optimal_clusters:\n",
    "    print(j)\n",
    "    kmeans = KMeans(n_clusters=j, random_state=0)\n",
    "    df['Cluster'] = kmeans.fit_predict(X)\n",
    "    filename = f\"trial_{j}_clusters.csv\"\n",
    "    df.to_csv(filename, index=False)"
   ]
  },
  {
   "cell_type": "markdown",
   "id": "1cb1139b",
   "metadata": {},
   "source": [
    "#### Plot the categoriese for each cluster (4,5,6,7)"
   ]
  },
  {
   "cell_type": "code",
   "execution_count": 5,
   "id": "6d075ae8",
   "metadata": {},
   "outputs": [
    {
     "data": {
      "image/png": "[encoded data removed]",
      "text/plain": [
       "<Figure size 1000x600 with 1 Axes>"
      ]
     },
     "metadata": {},
     "output_type": "display_data"
    }
   ],
   "source": [
    "import pandas as pd\n",
    "import matplotlib.pyplot as plt\n",
    "\n",
    "selected_columns = ['Type_Coastal','Type_Commercial','Type_Cultural','Type_Entertainment',\\\n",
    "                    'Type_Historical','Type_Natural Parks and Protected Areas','Cluster']\n",
    "\n",
    "df = pd.read_csv('trial_4_clusters.csv', usecols=selected_columns)\n",
    "df.head()\n",
    "# Group data by Cluster and calculate the percentage of each category\n",
    "grouped_df = df.groupby('Cluster').mean() * 100\n",
    "\n",
    "# Create a stacked bar plot for each cluster\n",
    "grouped_df.plot.bar(stacked=True, figsize=(10, 6))\n",
    "plt.xlabel('Cluster')\n",
    "plt.ylabel('Percentage')\n",
    "plt.title('Percentage of Categories in Each Cluster (4)')\n",
    "plt.legend(title='Category', bbox_to_anchor=(1.05, 1), loc='upper left')\n",
    "plt.show()"
   ]
  },
  {
   "cell_type": "code",
   "execution_count": 6,
   "id": "d3e104b6",
   "metadata": {},
   "outputs": [
    {
     "data": {
      "image/png": "[encoded data removed]",
      "text/plain": [
       "<Figure size 1000x600 with 1 Axes>"
      ]
     },
     "metadata": {},
     "output_type": "display_data"
    }
   ],
   "source": [
    "import pandas as pd\n",
    "import matplotlib.pyplot as plt\n",
    "\n",
    "selected_columns = ['Type_Coastal','Type_Commercial','Type_Cultural','Type_Entertainment',\\\n",
    "                    'Type_Historical','Type_Natural Parks and Protected Areas','Cluster']\n",
    "\n",
    "df = pd.read_csv('trial_5_clusters.csv', usecols=selected_columns)\n",
    "df.head()\n",
    "# Group data by Cluster and calculate the percentage of each category\n",
    "grouped_df = df.groupby('Cluster').mean() * 100\n",
    "\n",
    "# Create a stacked bar plot for each cluster\n",
    "grouped_df.plot.bar(stacked=True, figsize=(10, 6))\n",
    "plt.xlabel('Cluster')\n",
    "plt.ylabel('Percentage')\n",
    "plt.title('Percentage of Categories in Each Cluster (5)')\n",
    "plt.legend(title='Category', bbox_to_anchor=(1.05, 1), loc='upper left')\n",
    "plt.show()"
   ]
  },
  {
   "cell_type": "code",
   "execution_count": 7,
   "id": "8cba137a",
   "metadata": {},
   "outputs": [
    {
     "data": {
      "image/png": "[encoded data removed]",
      "text/plain": [
       "<Figure size 1000x600 with 1 Axes>"
      ]
     },
     "metadata": {},
     "output_type": "display_data"
    }
   ],
   "source": [
    "import pandas as pd\n",
    "import matplotlib.pyplot as plt\n",
    "\n",
    "selected_columns = ['Type_Coastal','Type_Commercial','Type_Cultural','Type_Entertainment',\\\n",
    "                    'Type_Historical','Type_Natural Parks and Protected Areas','Cluster']\n",
    "\n",
    "df = pd.read_csv('trial_6_clusters.csv', usecols=selected_columns)\n",
    "df.head()\n",
    "# Group data by Cluster and calculate the percentage of each category\n",
    "grouped_df = df.groupby('Cluster').mean() * 100\n",
    "\n",
    "# Create a stacked bar plot for each cluster\n",
    "grouped_df.plot.bar(stacked=True, figsize=(10, 6))\n",
    "plt.xlabel('Cluster')\n",
    "plt.ylabel('Percentage')\n",
    "plt.title('Percentage of Categories in Each Cluster (6)')\n",
    "plt.legend(title='Category', bbox_to_anchor=(1.05, 1), loc='upper left')\n",
    "plt.show()"
   ]
  },
  {
   "cell_type": "code",
   "execution_count": 8,
   "id": "9a8154e1",
   "metadata": {},
   "outputs": [
    {
     "data": {
      "image/png": "[encoded data removed]",
      "text/plain": [
       "<Figure size 1000x600 with 1 Axes>"
      ]
     },
     "metadata": {},
     "output_type": "display_data"
    }
   ],
   "source": [
    "import pandas as pd\n",
    "import matplotlib.pyplot as plt\n",
    "\n",
    "selected_columns = ['Type_Coastal','Type_Commercial','Type_Cultural','Type_Entertainment',\\\n",
    "                    'Type_Historical','Type_Natural Parks and Protected Areas','Cluster']\n",
    "\n",
    "df = pd.read_csv('trial_7_clusters.csv', usecols=selected_columns)\n",
    "df.head()\n",
    "# Group data by Cluster and calculate the percentage of each category\n",
    "grouped_df = df.groupby('Cluster').mean() * 100\n",
    "\n",
    "# Create a stacked bar plot for each cluster\n",
    "grouped_df.plot.bar(stacked=True, figsize=(10, 6))\n",
    "plt.xlabel('Cluster')\n",
    "plt.ylabel('Percentage')\n",
    "plt.title('Percentage of Categories in Each Cluster (7)')\n",
    "plt.legend(title='Category', bbox_to_anchor=(1.05, 1), loc='upper left')\n",
    "plt.show()"
   ]
  },
  {
   "cell_type": "markdown",
   "id": "f9224df9",
   "metadata": {},
   "source": [
    "### Following the comprehensive analysis, which also considered the Elbow method and silhouette, we have concluded that the optimal number of clusters for our study is 6-cluster."
   ]
  },
  {
   "cell_type": "markdown",
   "id": "ed9a9e50",
   "metadata": {},
   "source": [
    "_______________________________________________________________________________________________________________________________"
   ]
  },
  {
   "cell_type": "markdown",
   "id": "f8456023",
   "metadata": {},
   "source": [
    "## Adding new features to all reviews sheet"
   ]
  },
  {
   "cell_type": "markdown",
   "id": "5d952e1f",
   "metadata": {},
   "source": [
    "### 1- Adding feature \"sentiment analysis\""
   ]
  },
  {
   "cell_type": "code",
   "execution_count": 1,
   "id": "ce47c7eb",
   "metadata": {},
   "outputs": [],
   "source": [
    "import pandas as pd\n",
    "import numpy as np"
   ]
  },
  {
   "cell_type": "code",
   "execution_count": 2,
   "id": "e5b67a0d",
   "metadata": {},
   "outputs": [],
   "source": [
    "# We have 2 reviews sheet (Reviews.csv & All_reviews_for_Thailand.csv), we will concatenate both sheets\n",
    "reviews = pd.read_csv('Reviews.csv')"
   ]
  },
  {
   "cell_type": "code",
   "execution_count": 3,
   "id": "f8c0348c",
   "metadata": {},
   "outputs": [],
   "source": [
    "pd.set_option('display.max_colwidth', None)"
   ]
  },
  {
   "cell_type": "code",
   "execution_count": 4,
   "id": "328f77f8",
   "metadata": {
    "scrolled": true
   },
   "outputs": [
    {
     "data": {
      "text/html": [
       "<div>\n",
       "<style scoped>\n",
       "    .dataframe tbody tr th:only-of-type {\n",
       "        vertical-align: middle;\n",
       "    }\n",
       "\n",
       "    .dataframe tbody tr th {\n",
       "        vertical-align: top;\n",
       "    }\n",
       "\n",
       "    .dataframe thead th {\n",
       "        text-align: right;\n",
       "    }\n",
       "</style>\n",
       "<table border=\"1\" class=\"dataframe\">\n",
       "  <thead>\n",
       "    <tr style=\"text-align: right;\">\n",
       "      <th></th>\n",
       "      <th>Date</th>\n",
       "      <th>Reviewer</th>\n",
       "      <th>Stars</th>\n",
       "      <th>title</th>\n",
       "      <th>review text</th>\n",
       "      <th>Country</th>\n",
       "      <th>contributions</th>\n",
       "      <th>trip advisor name</th>\n",
       "      <th>Tourist place</th>\n",
       "      <th>review</th>\n",
       "      <th>Unnamed: 10</th>\n",
       "      <th>Levenishtien</th>\n",
       "      <th>Unnamed: 12</th>\n",
       "    </tr>\n",
       "  </thead>\n",
       "  <tbody>\n",
       "    <tr>\n",
       "      <th>0</th>\n",
       "      <td>23-May</td>\n",
       "      <td>mtca78</td>\n",
       "      <td>5</td>\n",
       "      <td>Amazing!!!!!!</td>\n",
       "      <td>Amazing place; one of the most impressive temples Iâ€™ve ever seen.  I recommend going early in the morning to avoid the hot weather.</td>\n",
       "      <td>Mexico City, Mexico</td>\n",
       "      <td>7.0</td>\n",
       "      <td>Abu Simbel Temple Complex</td>\n",
       "      <td>Abu Simbel Temples</td>\n",
       "      <td>1-10 of 1,890</td>\n",
       "      <td>8</td>\n",
       "      <td>0.57735</td>\n",
       "      <td>NaN</td>\n",
       "    </tr>\n",
       "    <tr>\n",
       "      <th>1</th>\n",
       "      <td>23-May</td>\n",
       "      <td>Olga</td>\n",
       "      <td>5</td>\n",
       "      <td>Amazing temples</td>\n",
       "      <td>One of our favourite places in Egypt. The temples are amazing. We came here at around 9.30 am and it was crowded with big tourist groups. By about 10.30 am we had the whole place to ourselves. We would recommend flying here from Aswan rather than doing the 3.5 hour drive each way.  You can also stay here to explore the other Nubian temples close by (we didn't have time to do this on this trip). You can catch a taxi to the site from the airport. It gets very hot and there is a small shop which sells water and snacks. If you are a history buff like us, you could easily stay here for hours (like we did). If not, 1 hour is probably sufficient.</td>\n",
       "      <td>Copenhagen, Denmark</td>\n",
       "      <td>89.0</td>\n",
       "      <td>Abu Simbel Temple Complex</td>\n",
       "      <td>Abu Simbel Temples</td>\n",
       "      <td>1-10 of 1,890</td>\n",
       "      <td>8</td>\n",
       "      <td>0.57735</td>\n",
       "      <td>NaN</td>\n",
       "    </tr>\n",
       "    <tr>\n",
       "      <th>2</th>\n",
       "      <td>23-Apr</td>\n",
       "      <td>Barbara B</td>\n",
       "      <td>5</td>\n",
       "      <td>Unbelievable Abu Simbel</td>\n",
       "      <td>OH MY!  I have seen pictures of this site for decades, but nothing compared to seeing those massive statues in real life. I was speechless, literally. This site has now become my favorite. If you can visit it- do so!!</td>\n",
       "      <td>Naperville</td>\n",
       "      <td>60.0</td>\n",
       "      <td>Abu Simbel Temple Complex</td>\n",
       "      <td>Abu Simbel Temples</td>\n",
       "      <td>1-10 of 1,890</td>\n",
       "      <td>8</td>\n",
       "      <td>0.57735</td>\n",
       "      <td>NaN</td>\n",
       "    </tr>\n",
       "    <tr>\n",
       "      <th>3</th>\n",
       "      <td>23-May</td>\n",
       "      <td>Danielle R</td>\n",
       "      <td>5</td>\n",
       "      <td>Holy Carp! This place is awesome.</td>\n",
       "      <td>I knew this site was stunning from pictures and documentaries but those don't even come close to how awesome this place is.  Astounding.  It's mind-boggling to think of it being built and even more mind-boggling that it was moved to the current location in the 1960s.</td>\n",
       "      <td>Toledo, OH</td>\n",
       "      <td>11.0</td>\n",
       "      <td>Abu Simbel Temple Complex</td>\n",
       "      <td>Abu Simbel Temples</td>\n",
       "      <td>1-10 of 1,890</td>\n",
       "      <td>8</td>\n",
       "      <td>0.57735</td>\n",
       "      <td>NaN</td>\n",
       "    </tr>\n",
       "    <tr>\n",
       "      <th>4</th>\n",
       "      <td>23-May</td>\n",
       "      <td>AliAsad1110</td>\n",
       "      <td>5</td>\n",
       "      <td>Amazing Abu Simbel</td>\n",
       "      <td>Abu Simbel is a historic site comprising two massive rock-cut temples in the village of Abu Simbel. This place does not disappoint. The scaleI is  beyond words. It fantastic. Itâ€™s emotionally moving. It was moved and reconstructed in the early sixties to save it from the waters of lake Nassar.</td>\n",
       "      <td>Rattlesden, UK</td>\n",
       "      <td>255.0</td>\n",
       "      <td>Abu Simbel Temple Complex</td>\n",
       "      <td>Abu Simbel Temples</td>\n",
       "      <td>1-10 of 1,890</td>\n",
       "      <td>8</td>\n",
       "      <td>0.57735</td>\n",
       "      <td>NaN</td>\n",
       "    </tr>\n",
       "  </tbody>\n",
       "</table>\n",
       "</div>"
      ],
      "text/plain": [
       "     Date     Reviewer  Stars                              title  \\\n",
       "0  23-May       mtca78      5                      Amazing!!!!!!   \n",
       "1  23-May         Olga      5                    Amazing temples   \n",
       "2  23-Apr    Barbara B      5            Unbelievable Abu Simbel   \n",
       "3  23-May   Danielle R      5  Holy Carp! This place is awesome.   \n",
       "4  23-May  AliAsad1110      5                 Amazing Abu Simbel   \n",
       "\n",
       "                                                                                                                                                                                                                                                                                                                                                                                                                                                                                                                                                                                                                                                               review text  \\\n",
       "0                                                                                                                                                                                                                                                                                                                                                                                                                                                                                                                                    Amazing place; one of the most impressive temples Iâ€™ve ever seen.  I recommend going early in the morning to avoid the hot weather.   \n",
       "1  One of our favourite places in Egypt. The temples are amazing. We came here at around 9.30 am and it was crowded with big tourist groups. By about 10.30 am we had the whole place to ourselves. We would recommend flying here from Aswan rather than doing the 3.5 hour drive each way.  You can also stay here to explore the other Nubian temples close by (we didn't have time to do this on this trip). You can catch a taxi to the site from the airport. It gets very hot and there is a small shop which sells water and snacks. If you are a history buff like us, you could easily stay here for hours (like we did). If not, 1 hour is probably sufficient.   \n",
       "2                                                                                                                                                                                                                                                                                                                                                                                                                                                OH MY!  I have seen pictures of this site for decades, but nothing compared to seeing those massive statues in real life. I was speechless, literally. This site has now become my favorite. If you can visit it- do so!!   \n",
       "3                                                                                                                                                                                                                                                                                                                                                                                              I knew this site was stunning from pictures and documentaries but those don't even come close to how awesome this place is.  Astounding.  It's mind-boggling to think of it being built and even more mind-boggling that it was moved to the current location in the 1960s.   \n",
       "4                                                                                                                                                                                                                                                                                                                                                                 Abu Simbel is a historic site comprising two massive rock-cut temples in the village of Abu Simbel. This place does not disappoint. The scaleI is  beyond words. It fantastic. Itâ€™s emotionally moving. It was moved and reconstructed in the early sixties to save it from the waters of lake Nassar.   \n",
       "\n",
       "               Country  contributions          trip advisor name  \\\n",
       "0  Mexico City, Mexico            7.0  Abu Simbel Temple Complex   \n",
       "1  Copenhagen, Denmark           89.0  Abu Simbel Temple Complex   \n",
       "2           Naperville           60.0  Abu Simbel Temple Complex   \n",
       "3           Toledo, OH           11.0  Abu Simbel Temple Complex   \n",
       "4       Rattlesden, UK          255.0  Abu Simbel Temple Complex   \n",
       "\n",
       "        Tourist place         review  Unnamed: 10  Levenishtien Unnamed: 12  \n",
       "0  Abu Simbel Temples  1-10 of 1,890            8       0.57735         NaN  \n",
       "1  Abu Simbel Temples  1-10 of 1,890            8       0.57735         NaN  \n",
       "2  Abu Simbel Temples  1-10 of 1,890            8       0.57735         NaN  \n",
       "3  Abu Simbel Temples  1-10 of 1,890            8       0.57735         NaN  \n",
       "4  Abu Simbel Temples  1-10 of 1,890            8       0.57735         NaN  "
      ]
     },
     "execution_count": 4,
     "metadata": {},
     "output_type": "execute_result"
    }
   ],
   "source": [
    "reviews.head()"
   ]
  },
  {
   "cell_type": "code",
   "execution_count": 5,
   "id": "5d1f74df",
   "metadata": {},
   "outputs": [
    {
     "name": "stdout",
     "output_type": "stream",
     "text": [
      "<class 'pandas.core.frame.DataFrame'>\n",
      "RangeIndex: 98502 entries, 0 to 98501\n",
      "Data columns (total 13 columns):\n",
      " #   Column             Non-Null Count  Dtype  \n",
      "---  ------             --------------  -----  \n",
      " 0   Date               96736 non-null  object \n",
      " 1   Reviewer           98438 non-null  object \n",
      " 2   Stars              98502 non-null  int64  \n",
      " 3   title              98491 non-null  object \n",
      " 4   review text        98468 non-null  object \n",
      " 5   Country            86544 non-null  object \n",
      " 6   contributions      98482 non-null  float64\n",
      " 7   trip advisor name  98502 non-null  object \n",
      " 8   Tourist place      98502 non-null  object \n",
      " 9   review             98461 non-null  object \n",
      " 10  Unnamed: 10        98502 non-null  int64  \n",
      " 11  Levenishtien       98502 non-null  float64\n",
      " 12  Unnamed: 12        42 non-null     object \n",
      "dtypes: float64(2), int64(2), object(9)\n",
      "memory usage: 9.8+ MB\n"
     ]
    }
   ],
   "source": [
    "reviews.info()"
   ]
  },
  {
   "cell_type": "code",
   "execution_count": 6,
   "id": "a5723826",
   "metadata": {},
   "outputs": [],
   "source": [
    "reviews_thailand = pd.read_csv('All_reviews_for_Thailand.csv', names=reviews.columns)"
   ]
  },
  {
   "cell_type": "code",
   "execution_count": 7,
   "id": "f867a0c0",
   "metadata": {
    "scrolled": true
   },
   "outputs": [
    {
     "data": {
      "text/html": [
       "<div>\n",
       "<style scoped>\n",
       "    .dataframe tbody tr th:only-of-type {\n",
       "        vertical-align: middle;\n",
       "    }\n",
       "\n",
       "    .dataframe tbody tr th {\n",
       "        vertical-align: top;\n",
       "    }\n",
       "\n",
       "    .dataframe thead th {\n",
       "        text-align: right;\n",
       "    }\n",
       "</style>\n",
       "<table border=\"1\" class=\"dataframe\">\n",
       "  <thead>\n",
       "    <tr style=\"text-align: right;\">\n",
       "      <th></th>\n",
       "      <th>Date</th>\n",
       "      <th>Reviewer</th>\n",
       "      <th>Stars</th>\n",
       "      <th>title</th>\n",
       "      <th>review text</th>\n",
       "      <th>Country</th>\n",
       "      <th>contributions</th>\n",
       "      <th>trip advisor name</th>\n",
       "      <th>Tourist place</th>\n",
       "      <th>review</th>\n",
       "      <th>Unnamed: 10</th>\n",
       "      <th>Levenishtien</th>\n",
       "      <th>Unnamed: 12</th>\n",
       "    </tr>\n",
       "  </thead>\n",
       "  <tbody>\n",
       "    <tr>\n",
       "      <th>0</th>\n",
       "      <td>Jul-23</td>\n",
       "      <td>Joolsmcc</td>\n",
       "      <td>5</td>\n",
       "      <td>Feast for the eyes, amazing!</td>\n",
       "      <td>We visited as part of a half day tour and the experience was incredible. So many beautiful and historic pieces to look at. Loved it.</td>\n",
       "      <td>Doha, Qatar</td>\n",
       "      <td>30.0</td>\n",
       "      <td>The Grand Palace</td>\n",
       "      <td>Grand Palace</td>\n",
       "      <td>1-10 of 21,933</td>\n",
       "      <td>4</td>\n",
       "      <td>0.816497</td>\n",
       "      <td>NaN</td>\n",
       "    </tr>\n",
       "    <tr>\n",
       "      <th>1</th>\n",
       "      <td>Jul-23</td>\n",
       "      <td>James W</td>\n",
       "      <td>5</td>\n",
       "      <td>Incredible palace</td>\n",
       "      <td>The giant gold buddha at the palace is really incredible. Cheap entry and great to look around the grounds.</td>\n",
       "      <td>Bangkok, Thailand</td>\n",
       "      <td>5.0</td>\n",
       "      <td>The Grand Palace</td>\n",
       "      <td>Grand Palace</td>\n",
       "      <td>1-10 of 21,933</td>\n",
       "      <td>4</td>\n",
       "      <td>0.816497</td>\n",
       "      <td>NaN</td>\n",
       "    </tr>\n",
       "    <tr>\n",
       "      <th>2</th>\n",
       "      <td>Jun-23</td>\n",
       "      <td>Kate</td>\n",
       "      <td>5</td>\n",
       "      <td>Exquisite. Stunning.</td>\n",
       "      <td>This palace has exquisite details inside and out. Extraordinarily beautiful. Photos do not do it justice; must see in person. And of course, the emerald Buddha was a delight to see, as well. This a MUST if you are visiting Bangkok.</td>\n",
       "      <td>Washington DC, DC</td>\n",
       "      <td>166.0</td>\n",
       "      <td>The Grand Palace</td>\n",
       "      <td>Grand Palace</td>\n",
       "      <td>1-10 of 21,933</td>\n",
       "      <td>4</td>\n",
       "      <td>0.816497</td>\n",
       "      <td>NaN</td>\n",
       "    </tr>\n",
       "    <tr>\n",
       "      <th>3</th>\n",
       "      <td>Jun-23</td>\n",
       "      <td>Marbo B</td>\n",
       "      <td>5</td>\n",
       "      <td>A Majestic Journey into Thai History and Culture</td>\n",
       "      <td>Located in the heart of Bangkok, the Grand Palace is a stunning complex that showcases the grandeur and opulence of Thai royalty. From the intricate details of the buildings to the captivating stories behind each structure, every corner of the palace is a testament to the country's cultural heritage.visual spectacle that was truly awe-inspiring.</td>\n",
       "      <td>NaN</td>\n",
       "      <td>3.0</td>\n",
       "      <td>The Grand Palace</td>\n",
       "      <td>Grand Palace</td>\n",
       "      <td>1-10 of 21,933</td>\n",
       "      <td>4</td>\n",
       "      <td>0.816497</td>\n",
       "      <td>NaN</td>\n",
       "    </tr>\n",
       "    <tr>\n",
       "      <th>4</th>\n",
       "      <td>Jun-23</td>\n",
       "      <td>Harrigan's Travels</td>\n",
       "      <td>4</td>\n",
       "      <td>Get in early and ensure you are dressed properly</td>\n",
       "      <td>Get in early, as close to opening time as you can, to avoid crowds. Ensure you are familiar with the dress requirements and familiarise yourself with what you can and cannot take into the Grand Palace.</td>\n",
       "      <td>Sydney, Australia</td>\n",
       "      <td>72.0</td>\n",
       "      <td>The Grand Palace</td>\n",
       "      <td>Grand Palace</td>\n",
       "      <td>1-10 of 21,933</td>\n",
       "      <td>4</td>\n",
       "      <td>0.816497</td>\n",
       "      <td>NaN</td>\n",
       "    </tr>\n",
       "  </tbody>\n",
       "</table>\n",
       "</div>"
      ],
      "text/plain": [
       "     Date            Reviewer  Stars  \\\n",
       "0  Jul-23            Joolsmcc      5   \n",
       "1  Jul-23             James W      5   \n",
       "2  Jun-23                Kate      5   \n",
       "3  Jun-23             Marbo B      5   \n",
       "4  Jun-23  Harrigan's Travels      4   \n",
       "\n",
       "                                              title  \\\n",
       "0                      Feast for the eyes, amazing!   \n",
       "1                                 Incredible palace   \n",
       "2                             Exquisite. Stunning.    \n",
       "3  A Majestic Journey into Thai History and Culture   \n",
       "4  Get in early and ensure you are dressed properly   \n",
       "\n",
       "                                                                                                                                                                                                                                                                                                                                                   review text  \\\n",
       "0                                                                                                                                                                                                                         We visited as part of a half day tour and the experience was incredible. So many beautiful and historic pieces to look at. Loved it.   \n",
       "1                                                                                                                                                                                                                                                  The giant gold buddha at the palace is really incredible. Cheap entry and great to look around the grounds.   \n",
       "2                                                                                                                     This palace has exquisite details inside and out. Extraordinarily beautiful. Photos do not do it justice; must see in person. And of course, the emerald Buddha was a delight to see, as well. This a MUST if you are visiting Bangkok.    \n",
       "3  Located in the heart of Bangkok, the Grand Palace is a stunning complex that showcases the grandeur and opulence of Thai royalty. From the intricate details of the buildings to the captivating stories behind each structure, every corner of the palace is a testament to the country's cultural heritage.visual spectacle that was truly awe-inspiring.   \n",
       "4                                                                                                                                                   Get in early, as close to opening time as you can, to avoid crowds. Ensure you are familiar with the dress requirements and familiarise yourself with what you can and cannot take into the Grand Palace.    \n",
       "\n",
       "             Country  contributions trip advisor name Tourist place  \\\n",
       "0        Doha, Qatar           30.0  The Grand Palace  Grand Palace   \n",
       "1  Bangkok, Thailand            5.0  The Grand Palace  Grand Palace   \n",
       "2  Washington DC, DC          166.0  The Grand Palace  Grand Palace   \n",
       "3                NaN            3.0  The Grand Palace  Grand Palace   \n",
       "4  Sydney, Australia           72.0  The Grand Palace  Grand Palace   \n",
       "\n",
       "           review  Unnamed: 10  Levenishtien  Unnamed: 12  \n",
       "0  1-10 of 21,933            4      0.816497          NaN  \n",
       "1  1-10 of 21,933            4      0.816497          NaN  \n",
       "2  1-10 of 21,933            4      0.816497          NaN  \n",
       "3  1-10 of 21,933            4      0.816497          NaN  \n",
       "4  1-10 of 21,933            4      0.816497          NaN  "
      ]
     },
     "execution_count": 7,
     "metadata": {},
     "output_type": "execute_result"
    }
   ],
   "source": [
    "reviews_thailand.head()"
   ]
  },
  {
   "cell_type": "code",
   "execution_count": 8,
   "id": "5ba2388d",
   "metadata": {},
   "outputs": [],
   "source": [
    "reviews = pd.concat([reviews, reviews_thailand], axis=0)"
   ]
  },
  {
   "cell_type": "code",
   "execution_count": null,
   "id": "b58ba36b",
   "metadata": {},
   "outputs": [],
   "source": [
    "reviews.reset_index(inplace=True, drop=True)"
   ]
  },
  {
   "cell_type": "code",
   "execution_count": null,
   "id": "36662c3a",
   "metadata": {},
   "outputs": [],
   "source": [
    "reviews.drop(['review', 'Unnamed: 10', 'Levenishtien', 'Unnamed: 12'], axis=1, inplace=True)"
   ]
  },
  {
   "cell_type": "code",
   "execution_count": null,
   "id": "24ab9587",
   "metadata": {},
   "outputs": [],
   "source": [
    "reviews.dropna(subset=['Country', 'review text', 'Date'], axis=0, inplace=True)"
   ]
  },
  {
   "cell_type": "code",
   "execution_count": null,
   "id": "cf2af017",
   "metadata": {},
   "outputs": [],
   "source": [
    "reviews['title'] = reviews['title'].fillna('')"
   ]
  },
  {
   "cell_type": "code",
   "execution_count": null,
   "id": "96ebc621",
   "metadata": {},
   "outputs": [],
   "source": [
    "reviews.info()"
   ]
  },
  {
   "cell_type": "code",
   "execution_count": null,
   "id": "94672ef3",
   "metadata": {},
   "outputs": [],
   "source": [
    "reviews['Title+Review'] = reviews['title'] + ' ' + reviews['review text']"
   ]
  },
  {
   "cell_type": "code",
   "execution_count": null,
   "id": "5333f31d",
   "metadata": {},
   "outputs": [],
   "source": [
    "reviews.drop(['title', 'review text'], axis=1, inplace=True)"
   ]
  },
  {
   "cell_type": "code",
   "execution_count": null,
   "id": "4755cfa5",
   "metadata": {},
   "outputs": [],
   "source": [
    "reviews.head()"
   ]
  },
  {
   "cell_type": "code",
   "execution_count": null,
   "id": "cf9a383d",
   "metadata": {},
   "outputs": [],
   "source": [
    "!pip install inflect\n",
    "import inflect\n",
    "import re\n",
    "import nltk\n",
    "from nltk.corpus import stopwords\n",
    "from nltk import word_tokenize\n",
    "from nltk.stem import WordNetLemmatizer\n",
    "import string\n",
    "from nltk.corpus import wordnet as wn\n",
    "nltk.download('punkt')"
   ]
  },
  {
   "cell_type": "code",
   "execution_count": null,
   "id": "a886e7a9",
   "metadata": {},
   "outputs": [],
   "source": [
    "p = inflect.engine()\n",
    "def convert_number(text):\n",
    "    temp_str = text.split()\n",
    "    new_string = []\n",
    " \n",
    "    for word in temp_str:\n",
    "        if word.isdigit():\n",
    "            temp = p.number_to_words(word)\n",
    "            new_string.append(temp)\n",
    "        else:\n",
    "            new_string.append(word)\n",
    " \n",
    "    temp_str = ' '.join(new_string)\n",
    "    return temp_str"
   ]
  },
  {
   "cell_type": "code",
   "execution_count": null,
   "id": "5dfd9943",
   "metadata": {},
   "outputs": [],
   "source": [
    "nltk.download('stopwords')\n",
    "english_stops = stopwords.words('english')\n",
    "#add punctuation to stopwords\n",
    "english_stops += list(string.punctuation)"
   ]
  },
  {
   "cell_type": "code",
   "execution_count": null,
   "id": "c0dadf60",
   "metadata": {},
   "outputs": [],
   "source": [
    "nltk.download('wordnet')"
   ]
  },
  {
   "cell_type": "code",
   "execution_count": null,
   "id": "c4a310fa",
   "metadata": {},
   "outputs": [],
   "source": [
    "def text_processing(row):\n",
    "    row['Title+Review'] = row['Title+Review'].lower()               ### convert text to lower case\n",
    "    row['Title+Review'] = re.sub(r\"\\s+[a-zA-Z]\\s+\", \" \", row['Title+Review'])   \n",
    "    clean = re.compile('<.*?>')\n",
    "    row['Title+Review'] = re.sub(clean, '', row['Title+Review'])\n",
    "    row['Title+Review'] = re.sub(r\"\\s+\",\" \", row['Title+Review'], flags = re.I)\n",
    "    row['Title+Review'] = re.sub(r'^https?:\\/\\/.*[\\r\\n]*', '', row['Title+Review'], flags=re.MULTILINE)\n",
    "    row['Title+Review'] = re.sub(r\"\\W\", \" \", row['Title+Review'], flags=re.I)  ### remove all non-word characters\n",
    "    row['Title+Review'] = convert_number(row['Title+Review'])       ### convert number to text\n",
    "  \n",
    "    review_words = word_tokenize(row['Title+Review'])        ### get words from text\n",
    "    review_words_no_stop = [item for item in review_words if item not in english_stops] ### removes stopwords & punctuation\n",
    "    wordnet_lemmatizer = WordNetLemmatizer()\n",
    "    words_lemmatization = [wordnet_lemmatizer.lemmatize(item) for item in review_words_no_stop] ### lemmatize words\n",
    "    words_in_english = [item for item in words_lemmatization if len(wn.synsets(item)) != 0]\n",
    "    \n",
    "    unique_words = list(set(words_in_english))      ### removes duplicated words\n",
    "    \n",
    "    row['Title+Review'] = \" \".join(unique_words)             ### Concatenate all words\n",
    "    return row['Title+Review']"
   ]
  },
  {
   "cell_type": "code",
   "execution_count": null,
   "id": "938f850f",
   "metadata": {},
   "outputs": [],
   "source": [
    "reviews['Title+Review'] = reviews.apply(lambda row: text_processing(row), axis=1)"
   ]
  },
  {
   "cell_type": "code",
   "execution_count": null,
   "id": "81058a29",
   "metadata": {},
   "outputs": [],
   "source": [
    "nltk.download('vader_lexicon')\n",
    "from nltk.sentiment.vader import SentimentIntensityAnalyzer"
   ]
  },
  {
   "cell_type": "code",
   "execution_count": null,
   "id": "b71302b5",
   "metadata": {},
   "outputs": [],
   "source": [
    "vader = SentimentIntensityAnalyzer()"
   ]
  },
  {
   "cell_type": "code",
   "execution_count": null,
   "id": "fde1e234",
   "metadata": {},
   "outputs": [],
   "source": [
    "reviews['Scores'] = reviews['Title+Review'].apply(lambda review: vader.polarity_scores(review))\n",
    "reviews.head()"
   ]
  },
  {
   "cell_type": "code",
   "execution_count": null,
   "id": "60564eea",
   "metadata": {},
   "outputs": [],
   "source": [
    "reviews['compound'] = reviews['Scores'].apply(lambda x: x['compound'])"
   ]
  },
  {
   "cell_type": "code",
   "execution_count": null,
   "id": "60256f56",
   "metadata": {},
   "outputs": [],
   "source": [
    "def polarity_score(compound):\n",
    "    if compound > 0.05:\n",
    "        return \"positive\"\n",
    "    elif compound < -0.05:\n",
    "        return \"negative\"\n",
    "    elif compound >= -0.05 and compound <= 0.05:\n",
    "        return \"neutral\""
   ]
  },
  {
   "cell_type": "code",
   "execution_count": null,
   "id": "ae335ffd",
   "metadata": {},
   "outputs": [],
   "source": [
    "reviews['sentiment'] = reviews['compound'].apply(lambda val: polarity_score(val))"
   ]
  },
  {
   "cell_type": "code",
   "execution_count": null,
   "id": "c0ea2d2c",
   "metadata": {},
   "outputs": [],
   "source": [
    "reviews.drop(['Scores', 'compound'], axis=1, inplace=True)"
   ]
  },
  {
   "cell_type": "code",
   "execution_count": null,
   "id": "f67f7faa",
   "metadata": {},
   "outputs": [],
   "source": [
    "reviews.to_csv('Reviews_processed.csv')"
   ]
  },
  {
   "cell_type": "markdown",
   "id": "c11a8908",
   "metadata": {},
   "source": [
    "### 2- Adding feature \"Country\" column (e.g repeated country name: England, UK, United of kingdon, London,...)"
   ]
  },
  {
   "cell_type": "code",
   "execution_count": null,
   "id": "22679027",
   "metadata": {},
   "outputs": [],
   "source": [
    "# 1- export country column by selecting the unique values of the mentioned home countries in reviews\n",
    "import pandas as pd\n",
    "\n",
    "def extract_unique_values(input_file, column_name, output_file):\n",
    "    # Read the CSV file into a dataframe\n",
    "    df = pd.read_csv(input_file)\n",
    "    \n",
    "    # Get the unique values from the specified column\n",
    "    unique_values = df[column_name].unique()\n",
    "    \n",
    "    # Create a new dataframe with the unique values and a single column\n",
    "    unique_df = pd.DataFrame({column_name: unique_values})\n",
    "    \n",
    "    # Save the unique values to a new CSV file\n",
    "    unique_df.to_csv(output_file, index=False)\n",
    "\n",
    "# Replace these file paths with your actual file paths\n",
    "input_file_path = \"Reviews_processed.csv\"\n",
    "output_file_path = \"output_file.csv\"\n",
    "column_name = \"Country\"\n",
    "\n",
    "# Call the function to extract unique values and save them to a new CSV file\n",
    "extract_unique_values(input_file_path, column_name, output_file_path)"
   ]
  },
  {
   "cell_type": "code",
   "execution_count": null,
   "id": "c34791e8",
   "metadata": {},
   "outputs": [],
   "source": [
    "# 2- cleaning the countries column by removing numerical places that has no string \n",
    "import pandas as pd\n",
    "import re\n",
    "\n",
    "def remove_numbers(input_string):\n",
    "    return re.sub(r'^\\d+$', '', input_string)\n",
    "\n",
    "# Example usage\n",
    "\n",
    "df = pd.read_csv(\"output_file.csv\")\n",
    "\n",
    "    # Apply the remove_numerical_values function to the 'Your_Column' column\n",
    "df['Country'] = df['Country'].apply(remove_numbers)\n",
    "df = df.replace(r'^s*$', float('NaN'), regex = True).dropna()\n",
    "\n",
    "df.to_csv(\"output_file2.csv\", index=False)\n",
    "\n"
   ]
  },
  {
   "cell_type": "code",
   "execution_count": null,
   "id": "20ba23f2",
   "metadata": {},
   "outputs": [],
   "source": [
    "# 3- exporting the new country column using the below library\n",
    "\n",
    "geolocator = Nominatim(user_agent=\"location_converter (en)\")\n",
    "\n",
    "# Function to geocode the location and get the country name\n",
    "def geocode_location(location):\n",
    "    try:\n",
    "        location_info = geolocator.geocode(location, language='en', timeout=5)\n",
    "        if location_info:\n",
    "            return location_info.raw[\"display_name\"].split(\",\")[-1].strip()\n",
    "        else:\n",
    "            return None\n",
    "    except Exception:\n",
    "        return None\n",
    "\n",
    "# Set up rate limiters for geocoding services\n",
    "geocode_nominatim = RateLimiter(geocode_location, min_delay_seconds=1)\n",
    "\n",
    "# Function to convert and append the geocoded country name for every row\n",
    "def convert_and_append(location):\n",
    "    #print(geocode_nominatim(location))\n",
    "    return geocode_nominatim(location)\n",
    "\n",
    "# Use ThreadPoolExecutor to apply the geocoding function in parallel\n",
    "with ThreadPoolExecutor() as executor:\n",
    "    df['countries'] = list(executor.map(convert_and_append, df[column_name]))\n",
    "\n",
    "# Save the modified DataFrame to a new Excel file with all rows in one sheet\n",
    "with pd.ExcelWriter(excel_file.replace('.csv', '_geocoded.xlsx'), engine='openpyxl') as writer:\n",
    "    df.to_excel(writer, index=False)\n",
    "\n",
    "print(\"Geocoded data saved to the Excel file.\")\n",
    "end_time = time.time()\n",
    "\n",
    "# Calculate and print the data import time\n",
    "data_import_time = end_time - start_time\n",
    "print(f\"Data import time: {data_import_time} seconds.\")"
   ]
  },
  {
   "cell_type": "code",
   "execution_count": null,
   "id": "0a17ce98",
   "metadata": {},
   "outputs": [],
   "source": [
    "# 4- Maping between the unique countries and the main review sheet\n",
    "\n",
    "import pandas as pd\n",
    "\n",
    "# Load the data from the Excel files into DataFrames\n",
    "df1 = pd.read_excel('output_file_geocoded_final.xlsx', sheet_name='Sheet1')\n",
    "df2 = pd.read_csv('All_reviews.csv')\n",
    "\n",
    "# Perform the VLOOKUP using merge() method\n",
    "result_df = pd.merge(df2, df1[['Country', 'countries']], left_on='Country', right_on='Country', how='left')\n",
    "\n",
    "# Rename the result column to the desired name (Column2 is the result of the VLOOKUP)\n",
    "result_df.rename(columns={'countries': 'VLOOKUP_Result'}, inplace=True)\n",
    "\n",
    "# Print the result DataFrame\n",
    "print(result_df)\n",
    "result_df.to_csv(\"Reviews_processed_V2.csv\", index=False)"
   ]
  },
  {
   "cell_type": "markdown",
   "id": "98ac71a1",
   "metadata": {},
   "source": [
    "### 3- Adding new Feature \"Season\" column"
   ]
  },
  {
   "cell_type": "code",
   "execution_count": null,
   "id": "4a573115",
   "metadata": {},
   "outputs": [],
   "source": [
    "import pandas as pd\n",
    "\n",
    "import time\n",
    "\n",
    "\n",
    "# Specify the path to your Excel file\n",
    "df = pd.read_csv('Reviews_processed_V2.csv')\n",
    "\n",
    "# Convert the valid dates to datetime format and keep the original data for invalid dates\n",
    "converted_dates = pd.to_datetime(df['Date'], format='%d-%b', errors='coerce')\n",
    "\n",
    "# Combine the converted dates and the original data using fillna()\n",
    "df['Date'] = converted_dates.dt.strftime('%d-%b').fillna(df['Date'])\n",
    "print(df)\n",
    "\n",
    "# Create a mapping of months to their corresponding seasons\n",
    "month_to_season = {\n",
    "    'Dec': 'Winter',\n",
    "    'Jan': 'Winter',\n",
    "    'Feb': 'Winter',\n",
    "    'Mar': 'Spring',\n",
    "    'Apr': 'Spring',\n",
    "    'May': 'Spring',\n",
    "    'Jun': 'Summer',\n",
    "    'Jul': 'Summer',\n",
    "    'Aug': 'Summer',\n",
    "    'Sep': 'Autumn',\n",
    "    'Oct': 'Autumn',\n",
    "    'Nov': 'Autumn',\n",
    "}\n",
    "\n",
    "# Create a function to get the season based on the month\n",
    "def get_season(month):\n",
    "    if month is pd.NaT:  # Handle NaT (invalid dates)\n",
    "        return ''\n",
    "    return month_to_season[month.strftime('%b')]\n",
    "\n",
    "# Apply the function to the \"date_column_name\" to create a new column \"Season\"\n",
    "df['Season'] = converted_dates.apply(get_season)\n",
    "\n",
    "# Now, the \"Season\" column contains the corresponding season for each month\n",
    "print(df)\n",
    "df.to_csv(\"Reviews_processed_V3.csv\", index=False)"
   ]
  },
  {
   "cell_type": "markdown",
   "id": "dca6edfd",
   "metadata": {},
   "source": [
    "### 4- Adding feature \"Cluster\" column"
   ]
  },
  {
   "cell_type": "code",
   "execution_count": null,
   "id": "e1ae3b84",
   "metadata": {},
   "outputs": [],
   "source": [
    "import pandas as pd\n",
    "\n",
    "# Load the data from the Excel files into DataFrames\n",
    "df1 = pd.read_csv('trial_6_clusters.csv')\n",
    "df2 = pd.read_csv('Reviews_processed_V3.csv')\n",
    "\n",
    "# Perform the VLOOKUP using merge() method\n",
    "result_df = pd.merge(df2, df1[['Tourist Place', 'Cluster']], left_on='Tourist place', right_on='Tourist Place', how='left')\n",
    "\n",
    "# Drop the unnecessary columns (Tourist Place is duplicated, and Tourist place is the original column)\n",
    "result_df.drop(columns=['Tourist Place'], inplace=True)\n",
    "\n",
    "# Print the result DataFrame\n",
    "print(result_df)\n",
    "result_df.to_csv(\"Reviews_processed_V4.csv\", index=False)"
   ]
  },
  {
   "cell_type": "markdown",
   "id": "d1cecc35",
   "metadata": {},
   "source": [
    "_________________________________________________________________________________________________________________________________"
   ]
  },
  {
   "cell_type": "markdown",
   "id": "aab63919",
   "metadata": {},
   "source": [
    "# Analysis:"
   ]
  },
  {
   "cell_type": "markdown",
   "id": "13a89ec0",
   "metadata": {},
   "source": [
    "### 1- Visualizing Stars vs reviews sentiment"
   ]
  },
  {
   "cell_type": "code",
   "execution_count": 24,
   "id": "b003c795",
   "metadata": {},
   "outputs": [],
   "source": [
    "import pandas as pd\n",
    "\n",
    "df = pd.read_csv('Reviews_processed_V4.csv')"
   ]
  },
  {
   "cell_type": "markdown",
   "id": "6f1ffd8e",
   "metadata": {},
   "source": [
    "Calculating the % of positive reviews per place"
   ]
  },
  {
   "cell_type": "code",
   "execution_count": 25,
   "id": "d5d4b8dd",
   "metadata": {},
   "outputs": [
    {
     "data": {
      "text/html": [
       "<div>\n",
       "<style scoped>\n",
       "    .dataframe tbody tr th:only-of-type {\n",
       "        vertical-align: middle;\n",
       "    }\n",
       "\n",
       "    .dataframe tbody tr th {\n",
       "        vertical-align: top;\n",
       "    }\n",
       "\n",
       "    .dataframe thead th {\n",
       "        text-align: right;\n",
       "    }\n",
       "</style>\n",
       "<table border=\"1\" class=\"dataframe\">\n",
       "  <thead>\n",
       "    <tr style=\"text-align: right;\">\n",
       "      <th></th>\n",
       "      <th>Tourist place</th>\n",
       "      <th>sentiment</th>\n",
       "    </tr>\n",
       "  </thead>\n",
       "  <tbody>\n",
       "    <tr>\n",
       "      <th>0</th>\n",
       "      <td>Abu Simbel Temples</td>\n",
       "      <td>positive</td>\n",
       "    </tr>\n",
       "    <tr>\n",
       "      <th>1</th>\n",
       "      <td>Abu Simbel Temples</td>\n",
       "      <td>positive</td>\n",
       "    </tr>\n",
       "    <tr>\n",
       "      <th>2</th>\n",
       "      <td>Abu Simbel Temples</td>\n",
       "      <td>positive</td>\n",
       "    </tr>\n",
       "    <tr>\n",
       "      <th>3</th>\n",
       "      <td>Abu Simbel Temples</td>\n",
       "      <td>positive</td>\n",
       "    </tr>\n",
       "    <tr>\n",
       "      <th>4</th>\n",
       "      <td>Abu Simbel Temples</td>\n",
       "      <td>positive</td>\n",
       "    </tr>\n",
       "  </tbody>\n",
       "</table>\n",
       "</div>"
      ],
      "text/plain": [
       "        Tourist place sentiment\n",
       "0  Abu Simbel Temples  positive\n",
       "1  Abu Simbel Temples  positive\n",
       "2  Abu Simbel Temples  positive\n",
       "3  Abu Simbel Temples  positive\n",
       "4  Abu Simbel Temples  positive"
      ]
     },
     "execution_count": 25,
     "metadata": {},
     "output_type": "execute_result"
    }
   ],
   "source": [
    "sent1=df[['Tourist place', 'sentiment']]\n",
    "sent1.head()"
   ]
  },
  {
   "cell_type": "code",
   "execution_count": 26,
   "id": "34c43323",
   "metadata": {},
   "outputs": [
    {
     "data": {
      "text/html": [
       "<div>\n",
       "<style scoped>\n",
       "    .dataframe tbody tr th:only-of-type {\n",
       "        vertical-align: middle;\n",
       "    }\n",
       "\n",
       "    .dataframe tbody tr th {\n",
       "        vertical-align: top;\n",
       "    }\n",
       "\n",
       "    .dataframe thead th {\n",
       "        text-align: right;\n",
       "    }\n",
       "</style>\n",
       "<table border=\"1\" class=\"dataframe\">\n",
       "  <thead>\n",
       "    <tr style=\"text-align: right;\">\n",
       "      <th>sentiment</th>\n",
       "      <th>negative</th>\n",
       "      <th>neutral</th>\n",
       "      <th>positive</th>\n",
       "    </tr>\n",
       "    <tr>\n",
       "      <th>Tourist place</th>\n",
       "      <th></th>\n",
       "      <th></th>\n",
       "      <th></th>\n",
       "    </tr>\n",
       "  </thead>\n",
       "  <tbody>\n",
       "    <tr>\n",
       "      <th>Abu Mena</th>\n",
       "      <td>2</td>\n",
       "      <td>0</td>\n",
       "      <td>1</td>\n",
       "    </tr>\n",
       "    <tr>\n",
       "      <th>Abu Rawash</th>\n",
       "      <td>1</td>\n",
       "      <td>0</td>\n",
       "      <td>0</td>\n",
       "    </tr>\n",
       "    <tr>\n",
       "      <th>Abu Simbel Sound and Light Show</th>\n",
       "      <td>10</td>\n",
       "      <td>2</td>\n",
       "      <td>108</td>\n",
       "    </tr>\n",
       "    <tr>\n",
       "      <th>Abu Simbel Temples</th>\n",
       "      <td>76</td>\n",
       "      <td>64</td>\n",
       "      <td>1583</td>\n",
       "    </tr>\n",
       "    <tr>\n",
       "      <th>Abydos Temple</th>\n",
       "      <td>6</td>\n",
       "      <td>5</td>\n",
       "      <td>96</td>\n",
       "    </tr>\n",
       "  </tbody>\n",
       "</table>\n",
       "</div>"
      ],
      "text/plain": [
       "sentiment                        negative  neutral  positive\n",
       "Tourist place                                               \n",
       "Abu Mena                                2        0         1\n",
       "Abu Rawash                              1        0         0\n",
       "Abu Simbel Sound and Light Show        10        2       108\n",
       "Abu Simbel Temples                     76       64      1583\n",
       "Abydos Temple                           6        5        96"
      ]
     },
     "execution_count": 26,
     "metadata": {},
     "output_type": "execute_result"
    }
   ],
   "source": [
    "sent2=pd.pivot_table(sent1,index='Tourist place',columns='sentiment',aggfunc=len, fill_value=0)\n",
    "sent2.head()"
   ]
  },
  {
   "cell_type": "code",
   "execution_count": 27,
   "id": "63c05d2c",
   "metadata": {},
   "outputs": [
    {
     "data": {
      "text/html": [
       "<div>\n",
       "<style scoped>\n",
       "    .dataframe tbody tr th:only-of-type {\n",
       "        vertical-align: middle;\n",
       "    }\n",
       "\n",
       "    .dataframe tbody tr th {\n",
       "        vertical-align: top;\n",
       "    }\n",
       "\n",
       "    .dataframe thead th {\n",
       "        text-align: right;\n",
       "    }\n",
       "</style>\n",
       "<table border=\"1\" class=\"dataframe\">\n",
       "  <thead>\n",
       "    <tr style=\"text-align: right;\">\n",
       "      <th>sentiment</th>\n",
       "      <th>negative</th>\n",
       "      <th>neutral</th>\n",
       "      <th>positive</th>\n",
       "      <th>total</th>\n",
       "      <th>positive%</th>\n",
       "    </tr>\n",
       "    <tr>\n",
       "      <th>Tourist place</th>\n",
       "      <th></th>\n",
       "      <th></th>\n",
       "      <th></th>\n",
       "      <th></th>\n",
       "      <th></th>\n",
       "    </tr>\n",
       "  </thead>\n",
       "  <tbody>\n",
       "    <tr>\n",
       "      <th>Qasr el-Nil Bridge</th>\n",
       "      <td>0</td>\n",
       "      <td>0</td>\n",
       "      <td>3</td>\n",
       "      <td>3</td>\n",
       "      <td>100.00</td>\n",
       "    </tr>\n",
       "    <tr>\n",
       "      <th>Egyptian Textile Museum</th>\n",
       "      <td>0</td>\n",
       "      <td>0</td>\n",
       "      <td>13</td>\n",
       "      <td>13</td>\n",
       "      <td>100.00</td>\n",
       "    </tr>\n",
       "    <tr>\n",
       "      <th>Ras Shitan</th>\n",
       "      <td>0</td>\n",
       "      <td>0</td>\n",
       "      <td>1</td>\n",
       "      <td>1</td>\n",
       "      <td>100.00</td>\n",
       "    </tr>\n",
       "    <tr>\n",
       "      <th>City Centre Maadi</th>\n",
       "      <td>0</td>\n",
       "      <td>0</td>\n",
       "      <td>15</td>\n",
       "      <td>15</td>\n",
       "      <td>100.00</td>\n",
       "    </tr>\n",
       "    <tr>\n",
       "      <th>Pierre Loti Hill</th>\n",
       "      <td>5</td>\n",
       "      <td>1</td>\n",
       "      <td>352</td>\n",
       "      <td>358</td>\n",
       "      <td>98.32</td>\n",
       "    </tr>\n",
       "  </tbody>\n",
       "</table>\n",
       "</div>"
      ],
      "text/plain": [
       "sentiment                negative  neutral  positive  total  positive%\n",
       "Tourist place                                                         \n",
       "Qasr el-Nil Bridge              0        0         3      3     100.00\n",
       "Egyptian Textile Museum         0        0        13     13     100.00\n",
       "Ras Shitan                      0        0         1      1     100.00\n",
       "City Centre Maadi               0        0        15     15     100.00\n",
       "Pierre Loti Hill                5        1       352    358      98.32"
      ]
     },
     "execution_count": 27,
     "metadata": {},
     "output_type": "execute_result"
    }
   ],
   "source": [
    "sent2['total']=sent2[['negative','neutral','positive']].sum(axis=1)\n",
    "sent2['positive%']=round(sent2['positive']*100/sent2['total'],2)\n",
    "sent2.sort_values(by='positive%', ascending=False, inplace=True)\n",
    "sent2.head()"
   ]
  },
  {
   "cell_type": "markdown",
   "id": "64284a3d",
   "metadata": {},
   "source": [
    "Checking the Stars vs Reviews"
   ]
  },
  {
   "cell_type": "code",
   "execution_count": 28,
   "id": "0468d74c",
   "metadata": {},
   "outputs": [
    {
     "data": {
      "text/html": [
       "<div>\n",
       "<style scoped>\n",
       "    .dataframe tbody tr th:only-of-type {\n",
       "        vertical-align: middle;\n",
       "    }\n",
       "\n",
       "    .dataframe tbody tr th {\n",
       "        vertical-align: top;\n",
       "    }\n",
       "\n",
       "    .dataframe thead th {\n",
       "        text-align: right;\n",
       "    }\n",
       "</style>\n",
       "<table border=\"1\" class=\"dataframe\">\n",
       "  <thead>\n",
       "    <tr style=\"text-align: right;\">\n",
       "      <th></th>\n",
       "      <th>sentiment</th>\n",
       "      <th>Stars</th>\n",
       "    </tr>\n",
       "  </thead>\n",
       "  <tbody>\n",
       "    <tr>\n",
       "      <th>0</th>\n",
       "      <td>positive</td>\n",
       "      <td>5</td>\n",
       "    </tr>\n",
       "    <tr>\n",
       "      <th>1</th>\n",
       "      <td>positive</td>\n",
       "      <td>5</td>\n",
       "    </tr>\n",
       "  </tbody>\n",
       "</table>\n",
       "</div>"
      ],
      "text/plain": [
       "  sentiment  Stars\n",
       "0  positive      5\n",
       "1  positive      5"
      ]
     },
     "execution_count": 28,
     "metadata": {},
     "output_type": "execute_result"
    }
   ],
   "source": [
    "sent3=result_df[['sentiment','Stars']]\n",
    "sent3.head(2)"
   ]
  },
  {
   "cell_type": "code",
   "execution_count": 29,
   "id": "f8dd7701",
   "metadata": {},
   "outputs": [
    {
     "data": {
      "text/html": [
       "<div>\n",
       "<style scoped>\n",
       "    .dataframe tbody tr th:only-of-type {\n",
       "        vertical-align: middle;\n",
       "    }\n",
       "\n",
       "    .dataframe tbody tr th {\n",
       "        vertical-align: top;\n",
       "    }\n",
       "\n",
       "    .dataframe thead th {\n",
       "        text-align: right;\n",
       "    }\n",
       "</style>\n",
       "<table border=\"1\" class=\"dataframe\">\n",
       "  <thead>\n",
       "    <tr style=\"text-align: right;\">\n",
       "      <th>Stars</th>\n",
       "      <th>1</th>\n",
       "      <th>2</th>\n",
       "      <th>3</th>\n",
       "      <th>4</th>\n",
       "      <th>5</th>\n",
       "    </tr>\n",
       "    <tr>\n",
       "      <th>sentiment</th>\n",
       "      <th></th>\n",
       "      <th></th>\n",
       "      <th></th>\n",
       "      <th></th>\n",
       "      <th></th>\n",
       "    </tr>\n",
       "  </thead>\n",
       "  <tbody>\n",
       "    <tr>\n",
       "      <th>negative</th>\n",
       "      <td>1498</td>\n",
       "      <td>1072</td>\n",
       "      <td>1613</td>\n",
       "      <td>1658</td>\n",
       "      <td>2660</td>\n",
       "    </tr>\n",
       "    <tr>\n",
       "      <th>neutral</th>\n",
       "      <td>196</td>\n",
       "      <td>269</td>\n",
       "      <td>733</td>\n",
       "      <td>1308</td>\n",
       "      <td>2406</td>\n",
       "    </tr>\n",
       "    <tr>\n",
       "      <th>positive</th>\n",
       "      <td>1195</td>\n",
       "      <td>2270</td>\n",
       "      <td>10604</td>\n",
       "      <td>32688</td>\n",
       "      <td>74638</td>\n",
       "    </tr>\n",
       "  </tbody>\n",
       "</table>\n",
       "</div>"
      ],
      "text/plain": [
       "Stars         1     2      3      4      5\n",
       "sentiment                                 \n",
       "negative   1498  1072   1613   1658   2660\n",
       "neutral     196   269    733   1308   2406\n",
       "positive   1195  2270  10604  32688  74638"
      ]
     },
     "execution_count": 29,
     "metadata": {},
     "output_type": "execute_result"
    }
   ],
   "source": [
    "sent4=pd.pivot_table(sent3,index='sentiment',columns='Stars',aggfunc=len, fill_value=0)\n",
    "sent4"
   ]
  },
  {
   "cell_type": "code",
   "execution_count": 30,
   "id": "c9a65528",
   "metadata": {},
   "outputs": [
    {
     "data": {
      "image/png": "[encoded data removed]",
      "text/plain": [
       "<Figure size 640x480 with 1 Axes>"
      ]
     },
     "metadata": {},
     "output_type": "display_data"
    }
   ],
   "source": [
    "plt.bar(x=sent4.columns, height=sent4.loc['positive'],color='g')\n",
    "plt.bar(x=sent4.columns, height=sent4.loc['neutral'],bottom=sent4.loc['positive'],color='b')\n",
    "plt.bar(x=sent4.columns, height=sent4.loc['negative'], bottom=sent4.loc['neutral']+sent4.loc['positive'],color='r')\n",
    "plt.xlabel(\"Stars\")\n",
    "plt.ylabel(\"# Reviews\")\n",
    "plt.legend(['Positive','Neutral','Negative'])\n",
    "plt.title(\"Stars vs Reviews\")\n",
    "plt.show()"
   ]
  },
  {
   "cell_type": "markdown",
   "id": "645da894",
   "metadata": {},
   "source": [
    "#### We can conclude that stars are proportional with the sentiment "
   ]
  },
  {
   "cell_type": "markdown",
   "id": "bf64f23a",
   "metadata": {},
   "source": [
    "### 2- Visualiztion that displays the distribution of visits per season for each cluster individually per home country."
   ]
  },
  {
   "cell_type": "code",
   "execution_count": 1,
   "id": "fa770b18",
   "metadata": {},
   "outputs": [],
   "source": [
    "import pandas as pd\n",
    "import numpy as np\n",
    "import matplotlib.pyplot as plt\n",
    "result_df = pd.read_csv('Reviews_processed_V4.csv')"
   ]
  },
  {
   "cell_type": "code",
   "execution_count": 2,
   "id": "4a390471",
   "metadata": {},
   "outputs": [
    {
     "data": {
      "text/html": [
       "<div>\n",
       "<style scoped>\n",
       "    .dataframe tbody tr th:only-of-type {\n",
       "        vertical-align: middle;\n",
       "    }\n",
       "\n",
       "    .dataframe tbody tr th {\n",
       "        vertical-align: top;\n",
       "    }\n",
       "\n",
       "    .dataframe thead th {\n",
       "        text-align: right;\n",
       "    }\n",
       "</style>\n",
       "<table border=\"1\" class=\"dataframe\">\n",
       "  <thead>\n",
       "    <tr style=\"text-align: right;\">\n",
       "      <th></th>\n",
       "      <th>Home Country</th>\n",
       "      <th>Season</th>\n",
       "      <th>Cluster</th>\n",
       "    </tr>\n",
       "  </thead>\n",
       "  <tbody>\n",
       "    <tr>\n",
       "      <th>0</th>\n",
       "      <td>Mexico</td>\n",
       "      <td>Spring</td>\n",
       "      <td>3</td>\n",
       "    </tr>\n",
       "  </tbody>\n",
       "</table>\n",
       "</div>"
      ],
      "text/plain": [
       "  Home Country   Season  Cluster\n",
       "0        Mexico  Spring        3"
      ]
     },
     "execution_count": 2,
     "metadata": {},
     "output_type": "execute_result"
    }
   ],
   "source": [
    "viz4=result_df[['Home Country ', 'Season', 'Cluster']]\n",
    "viz4.head(1)"
   ]
  },
  {
   "cell_type": "code",
   "execution_count": 3,
   "id": "b163e308",
   "metadata": {},
   "outputs": [],
   "source": [
    "# Now let's define a function that takes in our dataset and a cluster # and returns this cluster's data\n",
    "\n",
    "def clust_data(dataset, cluster_no):\n",
    "    clus=dataset[dataset['Cluster']==cluster_no]\n",
    "    clus_pvt=pd.pivot_table(clus,index='Home Country ',columns='Season',aggfunc=len, fill_value=0)\n",
    "    clus_pvt['total_visits']=clus_pvt.sum(axis=1)\n",
    "    clus_pvt.sort_values(by='total_visits', ascending=False, inplace=True)\n",
    "    # Let's select the highest 20 countries in visits\n",
    "    clus_pvt=clus_pvt.iloc[:,:4]\n",
    "    return clus_pvt"
   ]
  },
  {
   "cell_type": "code",
   "execution_count": 4,
   "id": "50b0be57",
   "metadata": {},
   "outputs": [],
   "source": [
    "def n_visit_clstr(country, clstr_no):\n",
    "    return np.array(clust_data(viz4, clstr_no).loc[country])"
   ]
  },
  {
   "cell_type": "code",
   "execution_count": 5,
   "id": "14562ee8",
   "metadata": {},
   "outputs": [
    {
     "data": {
      "text/plain": [
       "['Spring', 'Winter', 'Autumn', 'Summer']"
      ]
     },
     "execution_count": 5,
     "metadata": {},
     "output_type": "execute_result"
    }
   ],
   "source": [
    "# For each cluster, let's prepare the # visits for all countries per season\n",
    "seasons=list(result_df['Season'].drop_duplicates())\n",
    "\n",
    "seasons"
   ]
  },
  {
   "cell_type": "code",
   "execution_count": 6,
   "id": "5527ce98",
   "metadata": {
    "scrolled": true
   },
   "outputs": [
    {
     "data": {
      "text/plain": [
       "['United Kingdom',\n",
       " 'United States',\n",
       " 'Australia',\n",
       " 'India',\n",
       " 'Canada',\n",
       " 'Egypt',\n",
       " 'Thailand',\n",
       " 'Singapore',\n",
       " 'Malaysia',\n",
       " 'South Africa',\n",
       " 'United Arab Emirates',\n",
       " 'Netherlands',\n",
       " 'Germany',\n",
       " 'China',\n",
       " 'New Zealand',\n",
       " 'Indonesia',\n",
       " 'France',\n",
       " 'Spain',\n",
       " 'Saudi Arabia',\n",
       " 'Romania']"
      ]
     },
     "execution_count": 6,
     "metadata": {},
     "output_type": "execute_result"
    }
   ],
   "source": [
    "# Let's select the highest 20 countries in visits\n",
    "viz1=result_df[['Home Country ','Season']]\n",
    "viz2=pd.pivot_table(viz1,index='Home Country ',columns='Season',aggfunc=len, fill_value=0)\n",
    "viz2['total_visits']=viz2[['Autumn','Spring','Summer','Winter']].sum(axis=1)\n",
    "viz2.sort_values(by='total_visits', ascending=False, inplace=True)\n",
    "viz3=viz2.iloc[:20,:4]\n",
    "countries = list(viz3.index)\n",
    "countries"
   ]
  },
  {
   "cell_type": "code",
   "execution_count": 7,
   "id": "b1845c78",
   "metadata": {},
   "outputs": [],
   "source": [
    "N_seasons=len(seasons)\n",
    "N_cntr=len(countries)\n",
    "nvis1=[]\n",
    "nvis2=[]\n",
    "nvis3=[]\n",
    "nvis4=[]\n",
    "nvis5=[]\n",
    "nvis6=[]\n",
    "[nvis1.append(n_visit_clstr(countries[i],0)) for i in range(len(countries))]\n",
    "[nvis2.append(n_visit_clstr(countries[i],1)) for i in range(len(countries))];\n",
    "[nvis3.append(n_visit_clstr(countries[i],2)) for i in range(len(countries))];\n",
    "[nvis4.append(n_visit_clstr(countries[i],3)) for i in range(len(countries))];\n",
    "[nvis5.append(n_visit_clstr(countries[i],4)) for i in range(len(countries))];\n",
    "[nvis6.append(n_visit_clstr(countries[i],5)) for i in range(len(countries))];"
   ]
  },
  {
   "cell_type": "code",
   "execution_count": 8,
   "id": "2c67d10c",
   "metadata": {},
   "outputs": [
    {
     "data": {
      "application/vnd.jupyter.widget-view+json": {
       "model_id": "16cb1fb8e5c44f70b7d69a1b416b4177",
       "version_major": 2,
       "version_minor": 0
      },
      "text/plain": [
       "Dropdown(description='H Country', index=14, options=('United Kingdom', 'United States', 'Australia', 'India', …"
      ]
     },
     "metadata": {},
     "output_type": "display_data"
    },
    {
     "data": {
      "image/png": "[encoded data removed]",
      "text/plain": [
       "<Figure size 1000x600 with 6 Axes>"
      ]
     },
     "metadata": {},
     "output_type": "display_data"
    }
   ],
   "source": [
    "# Let's visualize our data\n",
    "import ipywidgets as widgets\n",
    "import numpy as np\n",
    "from IPython.display import display, clear_output\n",
    "dropdown=widgets.Dropdown(options=countries,description='H Country')\n",
    "f, axarr = plt.subplots(2, 3,figsize=(10,6))\n",
    "f.tight_layout(pad=5.0)\n",
    "\n",
    "axarr[0, 0].bar(seasons,nvis1[countries.index(dropdown.value)],label=dropdown.value,width=0.2)\n",
    "axarr[0, 0].set_title('Cluster 0')\n",
    "axarr[0, 0].set(frame_on=False)\n",
    "for index, value in enumerate(seasons):\n",
    "    axarr[0, 0].text(index-0.11,(nvis1[countries.index(dropdown.value)][index])+\n",
    "             max(nvis1[countries.index(dropdown.value)])/40\n",
    "             ,nvis1[countries.index(dropdown.value)][index],size=8)    \n",
    "\n",
    "axarr[0, 1].bar(seasons, nvis2[countries.index(dropdown.value)],label=dropdown.value, width=0.2)\n",
    "axarr[0, 1].set_title('Cluster 1')\n",
    "axarr[0, 1].set(frame_on=False)\n",
    "for index, value in enumerate(seasons):\n",
    "    axarr[0, 1].text(index-0.11,(nvis2[countries.index(dropdown.value)][index])+\n",
    "             max(nvis2[countries.index(dropdown.value)])/40\n",
    "             ,nvis2[countries.index(dropdown.value)][index],size=8)    \n",
    "\n",
    "axarr[0, 2].bar(seasons, nvis3[countries.index(dropdown.value)],label=dropdown.value, width=0.2)\n",
    "axarr[0, 2].set_title('Cluster 2')\n",
    "axarr[0, 2].set(frame_on=False)\n",
    "for index, value in enumerate(seasons):\n",
    "    axarr[0, 2].text(index-0.11,(nvis3[countries.index(dropdown.value)][index])+\n",
    "             max(nvis3[countries.index(dropdown.value)])/40\n",
    "             ,nvis3[countries.index(dropdown.value)][index],size=8)    \n",
    "\n",
    "axarr[1, 0].bar(seasons, nvis4[countries.index(dropdown.value)],label=dropdown.value, width=0.2)\n",
    "axarr[1, 0].set_title('Cluster 3')\n",
    "axarr[1, 0].set(frame_on=False)\n",
    "for index, value in enumerate(seasons):\n",
    "    axarr[1, 0].text(index-0.11,(nvis4[countries.index(dropdown.value)][index])+\n",
    "             max(nvis4[countries.index(dropdown.value)])/40\n",
    "             ,nvis4[countries.index(dropdown.value)][index],size=8)    \n",
    "\n",
    "axarr[1, 1].bar(seasons, nvis5[countries.index(dropdown.value)],label=dropdown.value, width=0.2)\n",
    "axarr[1, 1].set_title('Cluster 4')\n",
    "axarr[1, 1].set(frame_on=False)\n",
    "for index, value in enumerate(seasons):\n",
    "    axarr[1, 1].text(index-0.11,(nvis5[countries.index(dropdown.value)][index])+\n",
    "             max(nvis5[countries.index(dropdown.value)])/40\n",
    "             ,nvis5[countries.index(dropdown.value)][index],size=8)    \n",
    "\n",
    "axarr[1, 2].bar(seasons, nvis6[countries.index(dropdown.value)],label=dropdown.value, width=0.2)\n",
    "axarr[1, 2].set_title('Cluster 5')\n",
    "axarr[1, 2].set(frame_on=False)\n",
    "for index, value in enumerate(seasons):\n",
    "    axarr[1, 2].text(index-0.11,(nvis6[countries.index(dropdown.value)][index])+\n",
    "             max(nvis6[countries.index(dropdown.value)])/40\n",
    "             ,nvis6[countries.index(dropdown.value)][index],size=8)\n",
    "\n",
    "\n",
    "def on_change(change):\n",
    "    if change['type'] == 'change' and change['name'] == 'value':\n",
    "        clear_output()\n",
    "        display(dropdown)\n",
    "        f, axarr = plt.subplots(2, 3,figsize=(10,6))\n",
    "        f.tight_layout(pad=5.0)\n",
    "        axarr[0, 0].bar(seasons,nvis1[countries.index(dropdown.value)],label=dropdown.value,width=0.2)\n",
    "        plt.box(False)\n",
    "        axarr[0, 0].set_title('Cluster 0')\n",
    "        axarr[0, 0].set(frame_on=False)\n",
    "        for index, value in enumerate(seasons):\n",
    "            axarr[0, 0].text(index-0.11,(nvis1[countries.index(dropdown.value)][index])+\n",
    "                     max(nvis1[countries.index(dropdown.value)])/40\n",
    "                     ,nvis1[countries.index(dropdown.value)][index],size=8)\n",
    "    \n",
    "        axarr[0, 1].bar(seasons, nvis2[countries.index(dropdown.value)],label=dropdown.value, width=0.2)\n",
    "        axarr[0, 1].set_title('Cluster 1')\n",
    "        axarr[0, 1].set(frame_on=False)\n",
    "        for index, value in enumerate(seasons):\n",
    "            axarr[0, 1].text(index-0.11,(nvis2[countries.index(dropdown.value)][index])+\n",
    "                     max(nvis2[countries.index(dropdown.value)])/40\n",
    "                     ,nvis2[countries.index(dropdown.value)][index],size=8)    \n",
    "\n",
    "        axarr[0, 2].bar(seasons, nvis3[countries.index(dropdown.value)],label=dropdown.value, width=0.2)\n",
    "        axarr[0, 2].set_title('Cluster 2')\n",
    "        axarr[0, 2].set(frame_on=False)\n",
    "        for index, value in enumerate(seasons):\n",
    "            axarr[0, 2].text(index-0.11,(nvis3[countries.index(dropdown.value)][index])+\n",
    "                     max(nvis3[countries.index(dropdown.value)])/40\n",
    "                     ,nvis3[countries.index(dropdown.value)][index],size=8)    \n",
    "\n",
    "        axarr[1, 0].bar(seasons, nvis4[countries.index(dropdown.value)],label=dropdown.value, width=0.2)\n",
    "        axarr[1, 0].set_title('Cluster 3')\n",
    "        axarr[1, 0].set(frame_on=False)\n",
    "        for index, value in enumerate(seasons):\n",
    "            axarr[1, 0].text(index-0.11,(nvis4[countries.index(dropdown.value)][index])+\n",
    "                     max(nvis4[countries.index(dropdown.value)])/40\n",
    "                     ,nvis4[countries.index(dropdown.value)][index],size=8)    \n",
    "\n",
    "        axarr[1, 1].bar(seasons, nvis5[countries.index(dropdown.value)],label=dropdown.value, width=0.2)\n",
    "        axarr[1, 1].set_title('Cluster 4')\n",
    "        axarr[1, 1].set(frame_on=False)\n",
    "        for index, value in enumerate(seasons):\n",
    "            axarr[1, 1].text(index-0.11,(nvis5[countries.index(dropdown.value)][index])+\n",
    "                     max(nvis5[countries.index(dropdown.value)])/40\n",
    "                     ,nvis5[countries.index(dropdown.value)][index],size=8)    \n",
    "\n",
    "        axarr[1, 2].bar(seasons, nvis6[countries.index(dropdown.value)],label=dropdown.value, width=0.2)\n",
    "        axarr[1, 2].set_title('Cluster 5')\n",
    "        axarr[1, 2].set(frame_on=False)\n",
    "        for index, value in enumerate(seasons):\n",
    "            axarr[1, 2].text(index-0.11,(nvis6[countries.index(dropdown.value)][index])+\n",
    "                     max(nvis6[countries.index(dropdown.value)])/40\n",
    "                     ,nvis6[countries.index(dropdown.value)][index],size=8)\n",
    "f.suptitle('# Visits per Season for all Clusters', fontsize=16)\n",
    "dropdown.observe(on_change)\n",
    "\n",
    "display(dropdown)\n"
   ]
  },
  {
   "cell_type": "markdown",
   "id": "e4e9c7a3",
   "metadata": {},
   "source": [
    "### 3- Visualiztion that displays the distribution of visits per place for each cluster individually per home country."
   ]
  },
  {
   "cell_type": "code",
   "execution_count": 9,
   "id": "99c32ac2",
   "metadata": {},
   "outputs": [
    {
     "data": {
      "application/vnd.jupyter.widget-view+json": {
       "model_id": "5fba6e2e5b884d7f8606ad2ab1d6cb29",
       "version_major": 2,
       "version_minor": 0
      },
      "text/plain": [
       "interactive(children=(Dropdown(description='Cluster:', options=(3, 4, 5, 0, 2, 1), value=3), Dropdown(descript…"
      ]
     },
     "metadata": {},
     "output_type": "display_data"
    },
    {
     "data": {
      "text/plain": [
       "<function __main__.plot_charts(cluster, place)>"
      ]
     },
     "execution_count": 9,
     "metadata": {},
     "output_type": "execute_result"
    }
   ],
   "source": [
    "import plotly.graph_objects as go\n",
    "import plotly.express as px\n",
    "from ipywidgets import interact, widgets\n",
    "import pandas as pd\n",
    "from plotly.subplots import make_subplots\n",
    "\n",
    "# Load the data\n",
    "df = pd.read_csv('Reviews_processed_V4.csv')\n",
    "df = df.rename(columns={'Home Country ': 'Home Country'})\n",
    "\n",
    "# Create a dropdown for Cluster selection\n",
    "cluster_dropdown = widgets.Dropdown(\n",
    "    options=df['Cluster'].unique(),\n",
    "    description='Cluster:',\n",
    "    disabled=False,\n",
    ")\n",
    "\n",
    "# Create a dropdown for Place selection (initially empty)\n",
    "place_dropdown = widgets.Dropdown(\n",
    "    description='Place:',\n",
    "    disabled=False,\n",
    ")\n",
    "\n",
    "# Function to update the Place dropdown based on Cluster\n",
    "def update_place_dropdown(change):\n",
    "    cluster = change['new'] if 'new' in change else cluster_dropdown.value\n",
    "    filtered_df = df[df['Cluster'] == cluster]\n",
    "    place_options = filtered_df['Tourist place'].unique()\n",
    "    place_dropdown.options = place_options\n",
    "\n",
    "# Watch for changes on the Cluster dropdown and update the Place dropdown\n",
    "cluster_dropdown.observe(update_place_dropdown, names='value')\n",
    "\n",
    "# Function to visualize both the Sankey diagram and the world map\n",
    "def plot_charts(cluster, place):\n",
    "    filtered_df = df[(df['Cluster'] == cluster) & (df['Tourist place'] == place)]\n",
    "    \n",
    "    # Create source, target, value for Sankey\n",
    "    top_countries = filtered_df['Home Country'].value_counts().head(10).index\n",
    "    sankey_df = filtered_df[filtered_df['Home Country'].isin(top_countries)]\n",
    "    source = sankey_df['Home Country'].astype('category').cat.codes\n",
    "    target = sankey_df['Tourist place'].astype('category').cat.codes + len(sankey_df['Home Country'].astype('category').cat.categories)\n",
    "    value = [1] * len(source)\n",
    "    \n",
    "    # Create the Sankey diagram\n",
    "    sankey_fig = go.Figure(go.Sankey(\n",
    "        node=dict(\n",
    "            pad=15,\n",
    "            thickness=20,\n",
    "            line=dict(color=\"black\", width=0.5),\n",
    "            label=list(sankey_df['Home Country'].astype('category').cat.categories) + list(sankey_df['Tourist place'].astype('category').cat.categories)\n",
    "        ),\n",
    "        link=dict(source=source, target=target, value=value)\n",
    "    ))\n",
    "    sankey_fig.show()\n",
    "    \n",
    "    # Aggregate data by Home Country for the map\n",
    "    aggregated_df = filtered_df.groupby('Home Country').size().reset_index(name='count')\n",
    "    \n",
    "    # Create the choropleth map\n",
    "    map_fig = px.choropleth(aggregated_df, \n",
    "                            locations=\"Home Country\",\n",
    "                            locationmode='country names',\n",
    "                            color=\"count\",\n",
    "                            hover_name=\"Home Country\",\n",
    "                            color_continuous_scale=px.colors.sequential.Plasma)\n",
    "    map_fig.show()\n",
    "\n",
    "# Populate the place dropdown with initial values based on the default cluster\n",
    "update_place_dropdown({})\n",
    "\n",
    "# Link the widgets and the function together\n",
    "interact(plot_charts, cluster=cluster_dropdown, place=place_dropdown)"
   ]
  },
  {
   "cell_type": "code",
   "execution_count": null,
   "id": "9ff649a5",
   "metadata": {},
   "outputs": [],
   "source": []
  }
 ],
 "metadata": {
  "kernelspec": {
   "display_name": "Python 3 (ipykernel)",
   "language": "python",
   "name": "python3"
  },
  "language_info": {
   "codemirror_mode": {
    "name": "ipython",
    "version": 3
   },
   "file_extension": ".py",
   "mimetype": "text/x-python",
   "name": "python",
   "nbconvert_exporter": "python",
   "pygments_lexer": "ipython3",
   "version": "3.9.7"
  }
 },
 "nbformat": 4,
 "nbformat_minor": 5
}
